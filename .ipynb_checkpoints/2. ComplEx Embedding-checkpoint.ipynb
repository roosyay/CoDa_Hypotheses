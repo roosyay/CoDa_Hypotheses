{
 "cells": [
  {
   "cell_type": "code",
   "execution_count": 2,
   "metadata": {},
   "outputs": [],
   "source": [
    "import pandas as pd\n",
    "import json\n",
    "import numpy as np\n",
    "from tqdm import tqdm\n",
    "import ampligraph\n",
    "# import rdflib\n",
    "# import itertools\n",
    "\n",
    "#  https://docs.ampligraph.org/en/1.3.1/tutorials/AmpliGraphBasicsTutorial.html\n",
    "#  https://docs.ampligraph.org/en/1.3.1/examples.html"
   ]
  },
  {
   "cell_type": "code",
   "execution_count": 3,
   "metadata": {},
   "outputs": [],
   "source": [
    "%store -r triples_arr\n",
    "%store -r unseen_triples_arr"
   ]
  },
  {
   "cell_type": "code",
   "execution_count": 4,
   "metadata": {},
   "outputs": [
    {
     "name": "stdout",
     "output_type": "stream",
     "text": [
      "29339\n"
     ]
    }
   ],
   "source": [
    "X = triples_arr\n",
    "unseen_triples = unseen_triples_arr\n",
    "\n",
    "#  Sanity check \n",
    "print(len(X))"
   ]
  },
  {
   "cell_type": "code",
   "execution_count": 5,
   "metadata": {},
   "outputs": [
    {
     "name": "stdout",
     "output_type": "stream",
     "text": [
      "560\n"
     ]
    }
   ],
   "source": [
    "#  Sanity check \n",
    "print(len(unseen_triples))"
   ]
  },
  {
   "cell_type": "code",
   "execution_count": 6,
   "metadata": {},
   "outputs": [
    {
     "name": "stdout",
     "output_type": "stream",
     "text": [
      "Train set size:  (24539, 3)\n",
      "Test set size:  (2400, 3)\n",
      "Valid set size:  (2400, 3)\n"
     ]
    }
   ],
   "source": [
    "# Train, test, valid split \n",
    "\n",
    "from ampligraph.evaluation import train_test_split_no_unseen \n",
    "X_train_valid, X_test = train_test_split_no_unseen(X, test_size=(2400))\n",
    "X_train, X_valid = train_test_split_no_unseen(X_train_valid, test_size=2400)\n",
    "\n",
    "print('Train set size: ', X_train.shape)\n",
    "print('Test set size: ', X_test.shape)\n",
    "print('Valid set size: ', X_valid.shape)"
   ]
  },
  {
   "cell_type": "markdown",
   "metadata": {},
   "source": [
    "#  Train model"
   ]
  },
  {
   "cell_type": "code",
   "execution_count": 6,
   "metadata": {},
   "outputs": [],
   "source": [
    "#  Define ComplEx model \n",
    "\n",
    "from ampligraph.latent_features import ComplEx\n",
    "\n",
    "model = ComplEx(batches_count=100, \n",
    "                seed=555, \n",
    "                epochs=100, \n",
    "                k=200, \n",
    "                eta=15,\n",
    "                loss='multiclass_nll', \n",
    "                embedding_model_params = {'negative_corruption_entities': 'all'},\n",
    "                regularizer='LP', \n",
    "                regularizer_params={'p':1, 'lambda':1e-5}, \n",
    "                initializer= 'xavier', \n",
    "                initializer_params= {'uniform': False},\n",
    "                optimizer= 'adam',\n",
    "                optimizer_params = {'lr': 0.0005}, \n",
    "                verbose=True)\n"
   ]
  },
  {
   "cell_type": "code",
   "execution_count": 8,
   "metadata": {
    "scrolled": true
   },
   "outputs": [
    {
     "name": "stderr",
     "output_type": "stream",
     "text": [
      "Average Loss:   0.108873: 100%|███████████████████████████████████████████████████| 100/100 [18:17<00:00, 10.98s/epoch]\n"
     ]
    }
   ],
   "source": [
    "#  Fit model on the training data \n",
    "\n",
    "import tensorflow as tf\n",
    "tf.logging.set_verbosity(tf.logging.ERROR)\n",
    "\n",
    "model.fit(X_train, early_stopping = False)"
   ]
  },
  {
   "cell_type": "code",
   "execution_count": 23,
   "metadata": {},
   "outputs": [],
   "source": [
    "from ampligraph.latent_features import save_model\n",
    "save_model(model, './best_model.pkl')"
   ]
  },
  {
   "cell_type": "code",
   "execution_count": 8,
   "metadata": {},
   "outputs": [],
   "source": [
    "from ampligraph.latent_features import restore_model\n",
    "model = restore_model('./best_model.pkl')"
   ]
  },
  {
   "cell_type": "code",
   "execution_count": 9,
   "metadata": {},
   "outputs": [
    {
     "name": "stdout",
     "output_type": "stream",
     "text": [
      "The model is fit!\n"
     ]
    }
   ],
   "source": [
    "#  Sanity check \n",
    "\n",
    "if model.is_fitted:\n",
    "    print('The model is fit!')\n",
    "else:\n",
    "    print('The model is not fit! Did you skip a step?')"
   ]
  },
  {
   "cell_type": "markdown",
   "metadata": {},
   "source": [
    "# Evaluate Model"
   ]
  },
  {
   "cell_type": "code",
   "execution_count": 10,
   "metadata": {
    "scrolled": true
   },
   "outputs": [
    {
     "name": "stdout",
     "output_type": "stream",
     "text": [
      "WARNING - DeprecationWarning: use_default_protocol will be removed in future. Please use corrupt_side argument instead.\n"
     ]
    },
    {
     "name": "stderr",
     "output_type": "stream",
     "text": [
      "100%|██████████████████████████████████████████████████████████████████████████████| 2400/2400 [03:36<00:00, 11.06it/s]\n"
     ]
    }
   ],
   "source": [
    "#  Evaluate performance on the test set \n",
    "\n",
    "positives_filter = np.concatenate((X_train, X_test, X_valid))\n",
    "\n",
    "from ampligraph.evaluation import evaluate_performance\n",
    "ranks = evaluate_performance(X_test, \n",
    "                             model=model, \n",
    "                             filter_triples=positives_filter,   # Corruption strategy filter defined above \n",
    "                             use_default_protocol=True, # corrupt subj and obj separately while evaluating\n",
    "                             verbose=True)"
   ]
  },
  {
   "cell_type": "code",
   "execution_count": 11,
   "metadata": {},
   "outputs": [
    {
     "name": "stdout",
     "output_type": "stream",
     "text": [
      "MR: 279.91\n",
      "MRR: 0.68\n",
      "Hits@10: 0.75\n",
      "Hits@3: 0.69\n",
      "Hits@1: 0.64\n"
     ]
    }
   ],
   "source": [
    "#  See evaluation scores\n",
    "\n",
    "from ampligraph.evaluation import mr_score, mrr_score, hits_at_n_score\n",
    "\n",
    "mr = mr_score(ranks)\n",
    "print(\"MR: %.2f\" % (mr))\n",
    "\n",
    "mrr = mrr_score(ranks)\n",
    "print(\"MRR: %.2f\" % (mrr))\n",
    "\n",
    "hits_10 = hits_at_n_score(ranks, n=10)\n",
    "print(\"Hits@10: %.2f\" % (hits_10))\n",
    "hits_3 = hits_at_n_score(ranks, n=3)\n",
    "print(\"Hits@3: %.2f\" % (hits_3))\n",
    "hits_1 = hits_at_n_score(ranks, n=1)\n",
    "print(\"Hits@1: %.2f\" % (hits_1))"
   ]
  },
  {
   "cell_type": "markdown",
   "metadata": {},
   "source": [
    "# Predicting new links"
   ]
  },
  {
   "cell_type": "code",
   "execution_count": 11,
   "metadata": {},
   "outputs": [],
   "source": [
    "X_unseen = np.array(unseen_triples)"
   ]
  },
  {
   "cell_type": "code",
   "execution_count": 12,
   "metadata": {},
   "outputs": [],
   "source": [
    "unseen_filter = np.array(list({tuple(i) for i in np.vstack((positives_filter, X_unseen))}))"
   ]
  },
  {
   "cell_type": "code",
   "execution_count": 13,
   "metadata": {},
   "outputs": [
    {
     "name": "stdout",
     "output_type": "stream",
     "text": [
      "560\n"
     ]
    },
    {
     "data": {
      "text/plain": [
       "17203"
      ]
     },
     "execution_count": 13,
     "metadata": {},
     "output_type": "execute_result"
    }
   ],
   "source": [
    "print(len(X_unseen))\n",
    "print(len(unseen_filter)) "
   ]
  },
  {
   "cell_type": "code",
   "execution_count": 14,
   "metadata": {
    "scrolled": true
   },
   "outputs": [
    {
     "data": {
      "text/plain": [
       "array([['https://data.cooperationdatabank.org/vocab/prop/religiousLevel_H1',\n",
       "        'https://data.cooperationdatabank.org/vocab/prop/hasNegativeEffectOn',\n",
       "        'https://data.cooperationdatabank.org/id/dependentvariable/cooperation'],\n",
       "       ['https://data.cooperationdatabank.org/vocab/prop/religiousLevel_H1',\n",
       "        'https://data.cooperationdatabank.org/vocab/prop/hasNegativeEffectOn',\n",
       "        'https://data.cooperationdatabank.org/id/dependentvariable/contributions'],\n",
       "       ['https://data.cooperationdatabank.org/vocab/prop/religiousLevel_H1',\n",
       "        'https://data.cooperationdatabank.org/vocab/prop/hasPositiveEffectOn',\n",
       "        'https://data.cooperationdatabank.org/id/dependentvariable/cooperation'],\n",
       "       ...,\n",
       "       ['https://data.cooperationdatabank.org/vocab/prop/feedbackTarget_H5',\n",
       "        'https://data.cooperationdatabank.org/vocab/prop/hasNegativeEffectOn',\n",
       "        'https://data.cooperationdatabank.org/id/dependentvariable/cooperation'],\n",
       "       ['https://data.cooperationdatabank.org/vocab/prop/feedbackTarget_H5',\n",
       "        'https://data.cooperationdatabank.org/vocab/prop/hasPositiveEffectOn',\n",
       "        'https://data.cooperationdatabank.org/id/dependentvariable/cooperation'],\n",
       "       ['https://data.cooperationdatabank.org/vocab/prop/feedbackTarget_H5',\n",
       "        'https://data.cooperationdatabank.org/vocab/prop/hasPositiveEffectOn',\n",
       "        'https://data.cooperationdatabank.org/id/dependentvariable/contributions']],\n",
       "      dtype=object)"
      ]
     },
     "execution_count": 14,
     "metadata": {},
     "output_type": "execute_result"
    }
   ],
   "source": [
    "X_unseen"
   ]
  },
  {
   "cell_type": "code",
   "execution_count": 15,
   "metadata": {
    "scrolled": true
   },
   "outputs": [
    {
     "name": "stderr",
     "output_type": "stream",
     "text": [
      "100%|████████████████████████████████████████████████████████████████████████████████| 560/560 [00:50<00:00, 11.04it/s]\n"
     ]
    }
   ],
   "source": [
    "ranks_unseen = evaluate_performance(\n",
    "    X_unseen, \n",
    "    model=model, \n",
    "    filter_triples=unseen_filter,   # Corruption strategy filter defined above \n",
    "    corrupt_side = 's+o',\n",
    "    use_default_protocol=False, # corrupt subj and obj separately while evaluating\n",
    "    verbose=True\n",
    ")"
   ]
  },
  {
   "cell_type": "code",
   "execution_count": 16,
   "metadata": {},
   "outputs": [],
   "source": [
    "scores = model.predict(X_unseen)"
   ]
  },
  {
   "cell_type": "code",
   "execution_count": 17,
   "metadata": {},
   "outputs": [
    {
     "name": "stderr",
     "output_type": "stream",
     "text": [
      "Calibration Loss:   0.300113: 100%|█████████████████████████████████████████████████| 50/50 [00:08<00:00,  5.65epoch/s]\n"
     ]
    },
    {
     "data": {
      "text/plain": [
       "array([0.8755646 , 0.8854853 , 0.9254524 , 0.55554205, 0.9106661 ,\n",
       "       0.62879634, 0.34563106, 0.30714607, 0.3550626 , 0.8910928 ,\n",
       "       0.94742215, 0.9231199 , 0.9579115 , 0.9417647 , 0.2027488 ,\n",
       "       0.27007782, 0.18676949, 0.56751406, 0.8862363 , 0.8574461 ,\n",
       "       0.55221003, 0.85639894, 0.84536326, 0.48096055, 0.8561038 ,\n",
       "       0.7897005 , 0.82756066, 0.8542503 , 0.93498766, 0.79566747,\n",
       "       0.8580024 , 0.8389073 , 0.9486566 , 0.83228755, 0.72864664,\n",
       "       0.7125771 , 0.8751346 , 0.8856375 , 0.9244466 , 0.9309971 ,\n",
       "       0.9685943 , 0.5015219 , 0.926574  , 0.63533884, 0.7027925 ,\n",
       "       0.9183842 , 0.8463392 , 0.6616401 , 0.7130632 , 0.5811899 ,\n",
       "       0.937739  , 0.73057175, 0.8227493 , 0.82922906, 0.9146973 ,\n",
       "       0.8721961 , 0.77166   , 0.8505485 , 0.9181563 , 0.5793898 ,\n",
       "       0.9337336 , 0.5619836 , 0.5727319 , 0.93231237, 0.7883134 ,\n",
       "       0.67759067, 0.9256048 , 0.82329524, 0.93719447, 0.9806893 ,\n",
       "       0.85308033, 0.8454279 , 0.97484994, 0.8609417 , 0.7591301 ,\n",
       "       0.8117468 , 0.9466609 , 0.94171286, 0.96758854, 0.6711946 ,\n",
       "       0.96522176, 0.9535477 , 0.7980021 , 0.8434024 , 0.9472288 ,\n",
       "       0.7786713 , 0.76767814, 0.78890157, 0.84533155, 0.87950015,\n",
       "       0.5556643 , 0.8502897 , 0.71346855, 0.7902745 , 0.89613646,\n",
       "       0.5882871 , 0.704971  , 0.8266886 , 0.5305883 , 0.7677614 ,\n",
       "       0.80521154, 0.7081022 , 0.39062884, 0.8119747 , 0.26487118,\n",
       "       0.61117274, 0.5465895 , 0.9086921 , 0.4702893 , 0.7010901 ,\n",
       "       0.46357435, 0.7940817 , 0.637101  , 0.50958353, 0.8531735 ,\n",
       "       0.68650264, 0.38223943, 0.9201583 , 0.76702845, 0.96404964,\n",
       "       0.9619285 , 0.9677786 , 0.7487434 , 0.96933854, 0.73368937,\n",
       "       0.61334753, 0.87291324, 0.60591924, 0.73221993, 0.9638632 ,\n",
       "       0.67020917, 0.6509277 , 0.7814237 , 0.26650608, 0.3451196 ,\n",
       "       0.2751552 , 0.9772334 , 0.90056133, 0.9144975 , 0.95996416,\n",
       "       0.81955874, 0.7868181 , 0.82474947, 0.8049395 , 0.6846619 ,\n",
       "       0.74899065, 0.9216075 , 0.9185935 , 0.63049376, 0.8367769 ,\n",
       "       0.7694396 , 0.69400215, 0.64609   , 0.87072814, 0.7059139 ,\n",
       "       0.70146763, 0.8830724 , 0.8186705 , 0.90846777, 0.92573863,\n",
       "       0.78125983, 0.8083283 , 0.9697272 , 0.96381164, 0.95056975,\n",
       "       0.97488034, 0.8139241 , 0.97524273, 0.5810982 , 0.81073356,\n",
       "       0.68453693, 0.9163049 , 0.9389513 , 0.8652481 , 0.75346744,\n",
       "       0.80319524, 0.69078344, 0.7998507 , 0.933893  , 0.9358718 ,\n",
       "       0.6617015 , 0.9638424 , 0.7903913 , 0.8405112 , 0.9395629 ,\n",
       "       0.9638162 , 0.9508203 , 0.90824246, 0.9648965 , 0.72926354,\n",
       "       0.8680217 , 0.75321317, 0.874023  , 0.9113125 , 0.87834775,\n",
       "       0.96887136, 0.7187    , 0.6381983 , 0.6861276 , 0.5399416 ,\n",
       "       0.76500565, 0.5779598 , 0.8952625 , 0.7141049 , 0.3852955 ,\n",
       "       0.61682284, 0.9554182 , 0.50196236, 0.84326535, 0.4625793 ,\n",
       "       0.9782877 , 0.914525  , 0.9214896 , 0.970466  , 0.96599025,\n",
       "       0.94833404, 0.9379897 , 0.9340657 , 0.6081306 , 0.84511656,\n",
       "       0.78371954, 0.5060435 , 0.77699035, 0.69818515, 0.24004465,\n",
       "       0.33649164, 0.26098347, 0.62960714, 0.9252027 , 0.5692205 ,\n",
       "       0.9329549 , 0.96661127, 0.9393667 , 0.66157913, 0.91067696,\n",
       "       0.8395423 , 0.674394  , 0.91269875, 0.78207105, 0.97647417,\n",
       "       0.7705329 , 0.9227923 , 0.8591666 , 0.798799  , 0.92124414,\n",
       "       0.8720627 , 0.73404497, 0.7817178 , 0.5469045 , 0.65997505,\n",
       "       0.7020873 , 0.5420707 , 0.5241019 , 0.5970792 , 0.90413046,\n",
       "       0.8277278 , 0.3564896 , 0.3831115 , 0.61951673, 0.8687149 ,\n",
       "       0.7194523 , 0.5760742 , 0.7390561 , 0.6345338 , 0.79599714,\n",
       "       0.931303  , 0.74960804, 0.8206052 , 0.8530119 , 0.6133687 ,\n",
       "       0.73136604, 0.8659287 , 0.8504013 , 0.8738196 , 0.85415006,\n",
       "       0.9470319 , 0.9601636 , 0.93427646, 0.5173819 , 0.7982718 ,\n",
       "       0.729033  , 0.5055923 , 0.7885365 , 0.6363758 , 0.86780655,\n",
       "       0.62915844, 0.67979515, 0.67713064, 0.54322875, 0.5686637 ,\n",
       "       0.5226618 , 0.7994832 , 0.70802134, 0.83121794, 0.7571187 ,\n",
       "       0.7498814 , 0.7928922 , 0.7656534 , 0.5507267 , 0.8187681 ,\n",
       "       0.81121904, 0.5409114 , 0.7967253 , 0.49331352, 0.86148673,\n",
       "       0.7319213 , 0.8480506 , 0.72145236, 0.57518065, 0.9309163 ,\n",
       "       0.94139767, 0.62562495, 0.95439446, 0.651413  , 0.93300843,\n",
       "       0.77700406, 0.7903358 , 0.8964873 , 0.64712787, 0.66512805,\n",
       "       0.8423599 , 0.7791354 , 0.86861753, 0.6498938 , 0.7343717 ,\n",
       "       0.7473444 , 0.39929885, 0.6387087 , 0.8078908 , 0.8884282 ,\n",
       "       0.89974236, 0.89478266, 0.82965285, 0.86338466, 0.5741543 ,\n",
       "       0.8585409 , 0.8629084 , 0.85216606, 0.84692085, 0.7467594 ,\n",
       "       0.8742503 , 0.61893326, 0.6129189 , 0.80451334, 0.69524574,\n",
       "       0.61541706, 0.41620633, 0.7274524 , 0.4712653 , 0.76169527,\n",
       "       0.30104077, 0.36164293, 0.75965637, 0.68726647, 0.61826277,\n",
       "       0.94786346, 0.54603606, 0.7372839 , 0.39129204, 0.6771101 ,\n",
       "       0.88038635, 0.5939555 , 0.91946626, 0.93701035, 0.95630544,\n",
       "       0.9648248 , 0.9479383 , 0.7811632 , 0.9288027 , 0.8785479 ,\n",
       "       0.79928935, 0.9076323 , 0.7167221 , 0.63642025, 0.7918267 ,\n",
       "       0.87931156, 0.95021975, 0.74252415, 0.95953906, 0.97240233,\n",
       "       0.63369465, 0.47642085, 0.6842314 , 0.87131834, 0.7307111 ,\n",
       "       0.94572544, 0.6114694 , 0.7266381 , 0.39729512, 0.7749349 ,\n",
       "       0.93249416, 0.7604641 , 0.7320041 , 0.91811323, 0.70254767,\n",
       "       0.4884979 , 0.88899326, 0.6152613 , 0.7724893 , 0.86176836,\n",
       "       0.6649293 , 0.62266874, 0.82184863, 0.48967478, 0.22034714,\n",
       "       0.2299597 , 0.38312817, 0.74467224, 0.5555315 , 0.89060885,\n",
       "       0.9489536 , 0.93571216, 0.96245456, 0.9268092 , 0.67513835,\n",
       "       0.6866851 , 0.94865274, 0.94398403, 0.7759279 , 0.85635495,\n",
       "       0.7233579 , 0.89127576, 0.79203534, 0.8365814 , 0.9516773 ,\n",
       "       0.8460752 , 0.69178987, 0.95029444, 0.8453261 , 0.5685869 ,\n",
       "       0.80295384, 0.81532264, 0.48525506, 0.8475347 , 0.8003808 ,\n",
       "       0.50764704, 0.86585784, 0.7922331 , 0.77349925, 0.9495652 ,\n",
       "       0.85122526, 0.94111776, 0.82741463, 0.656046  , 0.8092862 ,\n",
       "       0.38333717, 0.6597314 , 0.7968501 , 0.39776295, 0.587008  ,\n",
       "       0.83978283, 0.42370012, 0.63933355, 0.8286637 , 0.5220328 ,\n",
       "       0.775926  , 0.9645905 , 0.6488538 , 0.6714986 , 0.71234286,\n",
       "       0.9329201 , 0.7427093 , 0.6821878 , 0.78537977, 0.88765824,\n",
       "       0.93511426, 0.9007905 , 0.91080844, 0.89835733, 0.84699976,\n",
       "       0.71919733, 0.92026716, 0.7591218 , 0.8870321 , 0.9815775 ,\n",
       "       0.72540706, 0.17260566, 0.61919594, 0.25428343, 0.76033175,\n",
       "       0.610158  , 0.8426719 , 0.78913355, 0.6381188 , 0.9199232 ,\n",
       "       0.7394544 , 0.58132774, 0.90553534, 0.72976774, 0.5779627 ,\n",
       "       0.8539174 , 0.73872846, 0.8271656 , 0.54240966, 0.7277885 ,\n",
       "       0.92472214, 0.68383795, 0.67647505, 0.9260452 , 0.62887186,\n",
       "       0.8434036 , 0.98073006, 0.7489209 , 0.74478537, 0.8579681 ,\n",
       "       0.70391846, 0.77794194, 0.9621765 , 0.7666776 , 0.9462042 ,\n",
       "       0.9672501 , 0.9521633 , 0.94651914, 0.91659606, 0.72858137,\n",
       "       0.7204947 , 0.62003416, 0.9216292 , 0.9207332 , 0.8627744 ,\n",
       "       0.79076225, 0.8952303 , 0.7421648 , 0.66685796, 0.6791033 ,\n",
       "       0.95663524, 0.3317529 , 0.45232135, 0.3432541 , 0.6281392 ,\n",
       "       0.80692774, 0.49704888, 0.6441809 , 0.79777205, 0.42529193,\n",
       "       0.67112553, 0.8396055 , 0.506486  , 0.3813802 , 0.2021676 ,\n",
       "       0.8471189 , 0.81430435, 0.97178185, 0.9487336 , 0.964274  ,\n",
       "       0.24795365, 0.2673103 , 0.35061932, 0.6456207 , 0.72808564,\n",
       "       0.47228926, 0.85319436, 0.95693946, 0.6872022 , 0.7050588 ,\n",
       "       0.330077  , 0.9062815 , 0.9457606 , 0.9619191 , 0.93503076],\n",
       "      dtype=float32)"
      ]
     },
     "execution_count": 17,
     "metadata": {},
     "output_type": "execute_result"
    }
   ],
   "source": [
    "#  Calibrate model on the valid set \n",
    "\n",
    "model.calibrate(X_valid, positive_base_rate=0.5)\n",
    "\n",
    "probas_pos_neg = model.predict_proba(X_unseen) \n",
    "\n",
    "#  https://docs.ampligraph.org/_/downloads/en/1.3.1/pdf/  See page 27 for explanation  "
   ]
  },
  {
   "cell_type": "code",
   "execution_count": 18,
   "metadata": {},
   "outputs": [],
   "source": [
    "from scipy.special import expit\n",
    "probs = expit(scores)"
   ]
  },
  {
   "cell_type": "code",
   "execution_count": 19,
   "metadata": {},
   "outputs": [],
   "source": [
    "rankings = pd.DataFrame(list(zip([' '.join(x) for x in X_unseen], \n",
    "                      ranks_unseen, \n",
    "                      np.squeeze(scores),\n",
    "                      np.squeeze(probas_pos_neg))), \n",
    "             columns=['statement', 'rank', 'score', 'probas_pos_neg']).sort_values('probas_pos_neg', ascending=False)\n"
   ]
  },
  {
   "cell_type": "code",
   "execution_count": 22,
   "metadata": {
    "scrolled": false
   },
   "outputs": [
    {
     "data": {
      "text/html": [
       "<div>\n",
       "<style scoped>\n",
       "    .dataframe tbody tr th:only-of-type {\n",
       "        vertical-align: middle;\n",
       "    }\n",
       "\n",
       "    .dataframe tbody tr th {\n",
       "        vertical-align: top;\n",
       "    }\n",
       "\n",
       "    .dataframe thead th {\n",
       "        text-align: right;\n",
       "    }\n",
       "</style>\n",
       "<table border=\"1\" class=\"dataframe\">\n",
       "  <thead>\n",
       "    <tr style=\"text-align: right;\">\n",
       "      <th></th>\n",
       "      <th>statement</th>\n",
       "      <th>rank</th>\n",
       "      <th>score</th>\n",
       "      <th>probas_pos_neg</th>\n",
       "    </tr>\n",
       "  </thead>\n",
       "  <tbody>\n",
       "    <tr>\n",
       "      <th>0</th>\n",
       "      <td>https://data.cooperationdatabank.org/vocab/prop/iteratedStrategy_H6 https://data.cooperationdatabank.org/vocab/prop/hasPositiveEffectOn https://data.cooperationdatabank.org/id/dependentvariable/cooperation</td>\n",
       "      <td>1</td>\n",
       "      <td>7.381446</td>\n",
       "      <td>0.981578</td>\n",
       "    </tr>\n",
       "    <tr>\n",
       "      <th>1</th>\n",
       "      <td>https://data.cooperationdatabank.org/vocab/prop/iteratedStrategy_H9 https://data.cooperationdatabank.org/vocab/prop/hasPositiveEffectOn https://data.cooperationdatabank.org/id/dependentvariable/cooperation</td>\n",
       "      <td>2</td>\n",
       "      <td>7.320162</td>\n",
       "      <td>0.980730</td>\n",
       "    </tr>\n",
       "    <tr>\n",
       "      <th>2</th>\n",
       "      <td>https://data.cooperationdatabank.org/vocab/prop/ethnicityUS_H1 https://data.cooperationdatabank.org/vocab/prop/hasPositiveEffectOn https://data.cooperationdatabank.org/id/dependentvariable/cooperation</td>\n",
       "      <td>2</td>\n",
       "      <td>7.317283</td>\n",
       "      <td>0.980689</td>\n",
       "    </tr>\n",
       "    <tr>\n",
       "      <th>3</th>\n",
       "      <td>https://data.cooperationdatabank.org/vocab/prop/punishmentTreatment_H3 https://data.cooperationdatabank.org/vocab/prop/hasNegativeEffectOn https://data.cooperationdatabank.org/id/dependentvariable/contributions</td>\n",
       "      <td>1</td>\n",
       "      <td>7.157279</td>\n",
       "      <td>0.978288</td>\n",
       "    </tr>\n",
       "    <tr>\n",
       "      <th>4</th>\n",
       "      <td>https://data.cooperationdatabank.org/vocab/prop/targetMembership_H5 https://data.cooperationdatabank.org/vocab/prop/hasNegativeEffectOn https://data.cooperationdatabank.org/id/dependentvariable/contributions</td>\n",
       "      <td>1</td>\n",
       "      <td>7.092446</td>\n",
       "      <td>0.977233</td>\n",
       "    </tr>\n",
       "    <tr>\n",
       "      <th>...</th>\n",
       "      <td>...</td>\n",
       "      <td>...</td>\n",
       "      <td>...</td>\n",
       "      <td>...</td>\n",
       "    </tr>\n",
       "    <tr>\n",
       "      <th>555</th>\n",
       "      <td>https://data.cooperationdatabank.org/vocab/prop/preferenceConditionalCooperation_H4 https://data.cooperationdatabank.org/vocab/prop/hasNegativeEffectOn https://data.cooperationdatabank.org/id/dependentvariable/cooperation</td>\n",
       "      <td>771</td>\n",
       "      <td>0.376581</td>\n",
       "      <td>0.220347</td>\n",
       "    </tr>\n",
       "    <tr>\n",
       "      <th>556</th>\n",
       "      <td>https://data.cooperationdatabank.org/vocab/prop/uncertaintyTarget_H1 https://data.cooperationdatabank.org/vocab/prop/hasNegativeEffectOn https://data.cooperationdatabank.org/id/dependentvariable/cooperation</td>\n",
       "      <td>1596</td>\n",
       "      <td>0.235451</td>\n",
       "      <td>0.202749</td>\n",
       "    </tr>\n",
       "    <tr>\n",
       "      <th>557</th>\n",
       "      <td>https://data.cooperationdatabank.org/vocab/prop/iteratedStrategy_H14 https://data.cooperationdatabank.org/vocab/prop/hasPositiveEffectOn https://data.cooperationdatabank.org/id/dependentvariable/contributions</td>\n",
       "      <td>1162</td>\n",
       "      <td>0.230638</td>\n",
       "      <td>0.202168</td>\n",
       "    </tr>\n",
       "    <tr>\n",
       "      <th>558</th>\n",
       "      <td>https://data.cooperationdatabank.org/vocab/prop/uncertaintyTarget_H1 https://data.cooperationdatabank.org/vocab/prop/hasPositiveEffectOn https://data.cooperationdatabank.org/id/dependentvariable/cooperation</td>\n",
       "      <td>3816</td>\n",
       "      <td>0.099160</td>\n",
       "      <td>0.186769</td>\n",
       "    </tr>\n",
       "    <tr>\n",
       "      <th>559</th>\n",
       "      <td>https://data.cooperationdatabank.org/vocab/prop/exitOption_H1 https://data.cooperationdatabank.org/vocab/prop/hasNegativeEffectOn https://data.cooperationdatabank.org/id/dependentvariable/contributions</td>\n",
       "      <td>4659</td>\n",
       "      <td>-0.029369</td>\n",
       "      <td>0.172606</td>\n",
       "    </tr>\n",
       "  </tbody>\n",
       "</table>\n",
       "<p>560 rows × 4 columns</p>\n",
       "</div>"
      ],
      "text/plain": [
       "                                                                                                                                                                                                                         statement  \\\n",
       "0                    https://data.cooperationdatabank.org/vocab/prop/iteratedStrategy_H6 https://data.cooperationdatabank.org/vocab/prop/hasPositiveEffectOn https://data.cooperationdatabank.org/id/dependentvariable/cooperation   \n",
       "1                    https://data.cooperationdatabank.org/vocab/prop/iteratedStrategy_H9 https://data.cooperationdatabank.org/vocab/prop/hasPositiveEffectOn https://data.cooperationdatabank.org/id/dependentvariable/cooperation   \n",
       "2                         https://data.cooperationdatabank.org/vocab/prop/ethnicityUS_H1 https://data.cooperationdatabank.org/vocab/prop/hasPositiveEffectOn https://data.cooperationdatabank.org/id/dependentvariable/cooperation   \n",
       "3               https://data.cooperationdatabank.org/vocab/prop/punishmentTreatment_H3 https://data.cooperationdatabank.org/vocab/prop/hasNegativeEffectOn https://data.cooperationdatabank.org/id/dependentvariable/contributions   \n",
       "4                  https://data.cooperationdatabank.org/vocab/prop/targetMembership_H5 https://data.cooperationdatabank.org/vocab/prop/hasNegativeEffectOn https://data.cooperationdatabank.org/id/dependentvariable/contributions   \n",
       "..                                                                                                                                                                                                                             ...   \n",
       "555  https://data.cooperationdatabank.org/vocab/prop/preferenceConditionalCooperation_H4 https://data.cooperationdatabank.org/vocab/prop/hasNegativeEffectOn https://data.cooperationdatabank.org/id/dependentvariable/cooperation   \n",
       "556                 https://data.cooperationdatabank.org/vocab/prop/uncertaintyTarget_H1 https://data.cooperationdatabank.org/vocab/prop/hasNegativeEffectOn https://data.cooperationdatabank.org/id/dependentvariable/cooperation   \n",
       "557               https://data.cooperationdatabank.org/vocab/prop/iteratedStrategy_H14 https://data.cooperationdatabank.org/vocab/prop/hasPositiveEffectOn https://data.cooperationdatabank.org/id/dependentvariable/contributions   \n",
       "558                 https://data.cooperationdatabank.org/vocab/prop/uncertaintyTarget_H1 https://data.cooperationdatabank.org/vocab/prop/hasPositiveEffectOn https://data.cooperationdatabank.org/id/dependentvariable/cooperation   \n",
       "559                      https://data.cooperationdatabank.org/vocab/prop/exitOption_H1 https://data.cooperationdatabank.org/vocab/prop/hasNegativeEffectOn https://data.cooperationdatabank.org/id/dependentvariable/contributions   \n",
       "\n",
       "     rank     score  probas_pos_neg  \n",
       "0       1  7.381446        0.981578  \n",
       "1       2  7.320162        0.980730  \n",
       "2       2  7.317283        0.980689  \n",
       "3       1  7.157279        0.978288  \n",
       "4       1  7.092446        0.977233  \n",
       "..    ...       ...             ...  \n",
       "555   771  0.376581        0.220347  \n",
       "556  1596  0.235451        0.202749  \n",
       "557  1162  0.230638        0.202168  \n",
       "558  3816  0.099160        0.186769  \n",
       "559  4659 -0.029369        0.172606  \n",
       "\n",
       "[560 rows x 4 columns]"
      ]
     },
     "execution_count": 22,
     "metadata": {},
     "output_type": "execute_result"
    }
   ],
   "source": [
    "pd.set_option('display.max_colwidth', 300)\n",
    "pd.set_option('max_rows', 350)\n",
    "rankings = rankings.reset_index(drop=True)\n",
    "rankings"
   ]
  },
  {
   "cell_type": "code",
   "execution_count": 24,
   "metadata": {},
   "outputs": [
    {
     "name": "stdout",
     "output_type": "stream",
     "text": [
      "Stored 'rankings_H' (DataFrame)\n"
     ]
    }
   ],
   "source": [
    "rankings_H = rankings\n",
    "%store rankings_H"
   ]
  }
 ],
 "metadata": {
  "kernelspec": {
   "display_name": "tf",
   "language": "python",
   "name": "tf"
  },
  "language_info": {
   "codemirror_mode": {
    "name": "ipython",
    "version": 3
   },
   "file_extension": ".py",
   "mimetype": "text/x-python",
   "name": "python",
   "nbconvert_exporter": "python",
   "pygments_lexer": "ipython3",
   "version": "3.7.7"
  }
 },
 "nbformat": 4,
 "nbformat_minor": 4
}
