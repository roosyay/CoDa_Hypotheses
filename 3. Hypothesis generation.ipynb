{
 "cells": [
  {
   "cell_type": "code",
   "execution_count": 1,
   "metadata": {},
   "outputs": [],
   "source": [
    "import pandas as pd\n",
    "import json\n",
    "import SPARQLWrapper\n",
    "from SPARQLWrapper import SPARQLWrapper, JSON\n",
    "import ast\n",
    "from tqdm import tqdm\n",
    "\n",
    "\n",
    "# import docx\n",
    "from docx import Document\n",
    "from tabulate import tabulate\n",
    "from IPython.display import display, HTML\n",
    "import matplotlib.backends.backend_pdf\n",
    "import matplotlib.pyplot as plt"
   ]
  },
  {
   "cell_type": "code",
   "execution_count": null,
   "metadata": {},
   "outputs": [],
   "source": [
    "pd.set_option('max_rows', 600)\n",
    "pd.set_option('max_colwidth', 300)"
   ]
  },
  {
   "cell_type": "code",
   "execution_count": 2,
   "metadata": {},
   "outputs": [
    {
     "data": {
      "text/html": [
       "<div>\n",
       "<style scoped>\n",
       "    .dataframe tbody tr th:only-of-type {\n",
       "        vertical-align: middle;\n",
       "    }\n",
       "\n",
       "    .dataframe tbody tr th {\n",
       "        vertical-align: top;\n",
       "    }\n",
       "\n",
       "    .dataframe thead th {\n",
       "        text-align: right;\n",
       "    }\n",
       "</style>\n",
       "<table border=\"1\" class=\"dataframe\">\n",
       "  <thead>\n",
       "    <tr style=\"text-align: right;\">\n",
       "      <th></th>\n",
       "      <th>statement</th>\n",
       "      <th>rank</th>\n",
       "      <th>score</th>\n",
       "      <th>probas_pos_neg</th>\n",
       "    </tr>\n",
       "  </thead>\n",
       "  <tbody>\n",
       "    <tr>\n",
       "      <th>0</th>\n",
       "      <td>https://data.cooperationdatabank.org/vocab/pro...</td>\n",
       "      <td>1</td>\n",
       "      <td>7.381446</td>\n",
       "      <td>0.981578</td>\n",
       "    </tr>\n",
       "    <tr>\n",
       "      <th>1</th>\n",
       "      <td>https://data.cooperationdatabank.org/vocab/pro...</td>\n",
       "      <td>2</td>\n",
       "      <td>7.320162</td>\n",
       "      <td>0.980730</td>\n",
       "    </tr>\n",
       "    <tr>\n",
       "      <th>2</th>\n",
       "      <td>https://data.cooperationdatabank.org/vocab/pro...</td>\n",
       "      <td>2</td>\n",
       "      <td>7.317283</td>\n",
       "      <td>0.980689</td>\n",
       "    </tr>\n",
       "    <tr>\n",
       "      <th>3</th>\n",
       "      <td>https://data.cooperationdatabank.org/vocab/pro...</td>\n",
       "      <td>1</td>\n",
       "      <td>7.157279</td>\n",
       "      <td>0.978288</td>\n",
       "    </tr>\n",
       "    <tr>\n",
       "      <th>4</th>\n",
       "      <td>https://data.cooperationdatabank.org/vocab/pro...</td>\n",
       "      <td>1</td>\n",
       "      <td>7.092446</td>\n",
       "      <td>0.977233</td>\n",
       "    </tr>\n",
       "    <tr>\n",
       "      <th>...</th>\n",
       "      <td>...</td>\n",
       "      <td>...</td>\n",
       "      <td>...</td>\n",
       "      <td>...</td>\n",
       "    </tr>\n",
       "    <tr>\n",
       "      <th>555</th>\n",
       "      <td>https://data.cooperationdatabank.org/vocab/pro...</td>\n",
       "      <td>771</td>\n",
       "      <td>0.376581</td>\n",
       "      <td>0.220347</td>\n",
       "    </tr>\n",
       "    <tr>\n",
       "      <th>556</th>\n",
       "      <td>https://data.cooperationdatabank.org/vocab/pro...</td>\n",
       "      <td>1596</td>\n",
       "      <td>0.235451</td>\n",
       "      <td>0.202749</td>\n",
       "    </tr>\n",
       "    <tr>\n",
       "      <th>557</th>\n",
       "      <td>https://data.cooperationdatabank.org/vocab/pro...</td>\n",
       "      <td>1162</td>\n",
       "      <td>0.230638</td>\n",
       "      <td>0.202168</td>\n",
       "    </tr>\n",
       "    <tr>\n",
       "      <th>558</th>\n",
       "      <td>https://data.cooperationdatabank.org/vocab/pro...</td>\n",
       "      <td>3816</td>\n",
       "      <td>0.099160</td>\n",
       "      <td>0.186769</td>\n",
       "    </tr>\n",
       "    <tr>\n",
       "      <th>559</th>\n",
       "      <td>https://data.cooperationdatabank.org/vocab/pro...</td>\n",
       "      <td>4659</td>\n",
       "      <td>-0.029369</td>\n",
       "      <td>0.172606</td>\n",
       "    </tr>\n",
       "  </tbody>\n",
       "</table>\n",
       "<p>560 rows × 4 columns</p>\n",
       "</div>"
      ],
      "text/plain": [
       "                                             statement  rank     score  \\\n",
       "0    https://data.cooperationdatabank.org/vocab/pro...     1  7.381446   \n",
       "1    https://data.cooperationdatabank.org/vocab/pro...     2  7.320162   \n",
       "2    https://data.cooperationdatabank.org/vocab/pro...     2  7.317283   \n",
       "3    https://data.cooperationdatabank.org/vocab/pro...     1  7.157279   \n",
       "4    https://data.cooperationdatabank.org/vocab/pro...     1  7.092446   \n",
       "..                                                 ...   ...       ...   \n",
       "555  https://data.cooperationdatabank.org/vocab/pro...   771  0.376581   \n",
       "556  https://data.cooperationdatabank.org/vocab/pro...  1596  0.235451   \n",
       "557  https://data.cooperationdatabank.org/vocab/pro...  1162  0.230638   \n",
       "558  https://data.cooperationdatabank.org/vocab/pro...  3816  0.099160   \n",
       "559  https://data.cooperationdatabank.org/vocab/pro...  4659 -0.029369   \n",
       "\n",
       "     probas_pos_neg  \n",
       "0          0.981578  \n",
       "1          0.980730  \n",
       "2          0.980689  \n",
       "3          0.978288  \n",
       "4          0.977233  \n",
       "..              ...  \n",
       "555        0.220347  \n",
       "556        0.202749  \n",
       "557        0.202168  \n",
       "558        0.186769  \n",
       "559        0.172606  \n",
       "\n",
       "[560 rows x 4 columns]"
      ]
     },
     "execution_count": 2,
     "metadata": {},
     "output_type": "execute_result"
    }
   ],
   "source": [
    "%store -r rankings_H\n",
    "# %store -r triples_arr\n",
    "\n",
    "rankings = rankings_H\n",
    "# triples = triples_arr\n",
    "rankings"
   ]
  },
  {
   "cell_type": "code",
   "execution_count": 5,
   "metadata": {},
   "outputs": [],
   "source": [
    "url = 'https://api.cooperationdatabank.org/datasets/coda-dev/databank/services/databank/sparql'\n",
    "\n",
    "def get_sparql_dataframe(service, query):\n",
    "    sparql = SPARQLWrapper(service)\n",
    "    out = []\n",
    "   \n",
    "    sparql.setQuery(query)\n",
    "\n",
    "    sparql.setReturnFormat(JSON)\n",
    "    result = sparql.query()\n",
    "    processed_results = json.load(result.response)\n",
    "    cols = processed_results['head']['vars']\n",
    "\n",
    "    for row in processed_results['results']['bindings']:\n",
    "        item = []\n",
    "        for c in cols:\n",
    "            item.append(row.get(c, {}).get('value'))\n",
    "        out.append(item)\n",
    "        \n",
    "    return pd.DataFrame(out, columns=cols)"
   ]
  },
  {
   "cell_type": "code",
   "execution_count": 3,
   "metadata": {},
   "outputs": [],
   "source": [
    "observations = pd.read_csv('data/observations_with_intervals_final.csv', index_col = 0)\n",
    "observations = observations.reset_index(drop=True)"
   ]
  },
  {
   "cell_type": "code",
   "execution_count": null,
   "metadata": {},
   "outputs": [],
   "source": [
    "data_table = pd.DataFrame(columns = ['obs'])\n",
    "data_table = observations[['obs', 't1', 't2', 'independentProperties']]\n",
    "data_table"
   ]
  },
  {
   "cell_type": "code",
   "execution_count": null,
   "metadata": {},
   "outputs": [],
   "source": [
    "def construct_category_data_table(observations): \n",
    "    loop = tqdm(total = len(observations), position=0, leave=False)\n",
    "\n",
    "    categories = pd.DataFrame()\n",
    "    variables = pd.Series()\n",
    "    for index, row in observations.iterrows(): \n",
    "        obs = row['obs']\n",
    "        t1 = row['t1']\n",
    "        t2 = row['t2']\n",
    "        inds = row['independentProperties']\n",
    "        print(inds)\n",
    "        if len(inds) < 3: \n",
    "            \n",
    "            for variable in inds:\n",
    "                variables = variables.append(pd.Series(variable))\n",
    "                prefix = \"\"\" PREFIX owl: <http://www.w3.org/2002/07/owl#>\n",
    "                        PREFIX rdf: <http://www.w3.org/1999/02/22-rdf-syntax-ns#>\n",
    "                        PREFIX rdfs: <http://www.w3.org/2000/01/rdf-schema#>\n",
    "                        PREFIX class: <https://data.cooperationdatabank.org/vocab/class/>\n",
    "                        PREFIX property: <https://data.cooperationdatabank.org/vocab/prop/>\n",
    "                        PREFIX id: <https://data.cooperationdatabank.org/id/> \n",
    "                        PREFIX dct: <http://purl.org/dc/terms/>\n",
    "                        \"\"\"\n",
    "\n",
    "                query = prefix + \"\"\"\n",
    "                             SELECT * WHERE {\n",
    "                             \"\"\" + '<' + obs + '>' + \"\"\" property:treatment ?treatment . \n",
    "                             ?treatment \"\"\" + '<' + variable + '>' + \"\"\" ?categoryOrValue. \n",
    "                             \"\"\" + '<' + variable + '>' + \"\"\"  rdfs:range ?range . \n",
    "\n",
    "                            }\"\"\"\n",
    "                \n",
    "                dfje = get_sparql_dataframe(url, query)\n",
    "                dfje['IV'] = variable\n",
    "                categories = categories.append(dfje).reset_index(drop=True)\n",
    "            \n",
    "        loop.set_description(\"Loading...\".format(index))\n",
    "        loop.update(1)\n",
    "    \n",
    "    loop.close()\n",
    "    return categories, variables\n",
    "\n",
    "categories, variables = construct_category_data_table(data_table)\n",
    "categories"
   ]
  },
  {
   "cell_type": "code",
   "execution_count": null,
   "metadata": {},
   "outputs": [],
   "source": [
    "pd.set_option('max_colwidth', 300)\n",
    "categories"
   ]
  },
  {
   "cell_type": "code",
   "execution_count": null,
   "metadata": {},
   "outputs": [],
   "source": [
    "categories.to_csv('data/categories.csv')"
   ]
  },
  {
   "cell_type": "code",
   "execution_count": null,
   "metadata": {},
   "outputs": [],
   "source": [
    "variables.nunique()"
   ]
  },
  {
   "cell_type": "code",
   "execution_count": null,
   "metadata": {},
   "outputs": [],
   "source": [
    "counts = categories.groupby(['IV', 'categoryOrValue']).size().reset_index(name='Count')\n",
    "pd.set_option('max_rows', 30)\n",
    "counts = counts.sort_values('IV')\n",
    "counts"
   ]
  },
  {
   "cell_type": "code",
   "execution_count": null,
   "metadata": {},
   "outputs": [],
   "source": [
    "%store -r categories\n",
    "%store -r counts"
   ]
  },
  {
   "cell_type": "code",
   "execution_count": null,
   "metadata": {},
   "outputs": [],
   "source": [
    "counts = pd.read_csv('data/counts.csv', index_col = 0)\n",
    "categories = pd.read_csv('data/categories.csv', index_col = 0)"
   ]
  },
  {
   "cell_type": "code",
   "execution_count": null,
   "metadata": {},
   "outputs": [],
   "source": [
    "categories"
   ]
  },
  {
   "cell_type": "code",
   "execution_count": null,
   "metadata": {},
   "outputs": [],
   "source": []
  },
  {
   "cell_type": "code",
   "execution_count": 6,
   "metadata": {
    "scrolled": true
   },
   "outputs": [
    {
     "name": "stdout",
     "output_type": "stream",
     "text": [
      "POSSIBLE NEW HYPOTHESES WITH HIGHEST PROBABILITIES\n"
     ]
    },
    {
     "name": "stderr",
     "output_type": "stream",
     "text": [
      "c:\\users\\roos\\tf\\lib\\site-packages\\ipykernel_launcher.py:3: DeprecationWarning: The default dtype for empty Series will be 'object' instead of 'float64' in a future version. Specify a dtype explicitly to silence this warning.\n",
      "  This is separate from the ipykernel package so we can avoid doing imports until\n",
      "c:\\users\\roos\\tf\\lib\\site-packages\\ipykernel_launcher.py:4: DeprecationWarning: The default dtype for empty Series will be 'object' instead of 'float64' in a future version. Specify a dtype explicitly to silence this warning.\n",
      "  after removing the cwd from sys.path.\n"
     ]
    },
    {
     "name": "stdout",
     "output_type": "stream",
     "text": [
      "\n",
      "\n",
      "Hypothesis 1: iterated strategy has positive effect on cooperation \n",
      "\n",
      "Dependent Variable (DV):  https://data.cooperationdatabank.org/id/dependentvariable/cooperation \n",
      "\n",
      "Independent Variable (IV):  https://data.cooperationdatabank.org/vocab/prop/iteratedStrategy https://data.cooperationdatabank.org/vocab/prop/iteratedStrategy_H6 \n",
      "Description IV:  The specific strategy played by the participant's partner in an iterated game. \n",
      "\n",
      "The IV categories that were researched and their descriptions are shown below: \n"
     ]
    },
    {
     "data": {
      "text/html": [
       "<style  type=\"text/css\" >\n",
       "</style><table id=\"T_30af678c_ea51_11ea_9229_144f8aa73135\" ><thead>    <tr>        <th class=\"col_heading level0 col0\" >treatment</th>        <th class=\"col_heading level0 col1\" >IV value</th>        <th class=\"col_heading level0 col2\" >description</th>    </tr></thead><tbody>\n",
       "                <tr>\n",
       "                                <td id=\"T_30af678c_ea51_11ea_9229_144f8aa73135row0_col0\" class=\"data row0 col0\" >T1</td>\n",
       "                        <td id=\"T_30af678c_ea51_11ea_9229_144f8aa73135row0_col1\" class=\"data row0 col1\" >preprogrammed_cooperation_rate</td>\n",
       "                        <td id=\"T_30af678c_ea51_11ea_9229_144f8aa73135row0_col2\" class=\"data row0 col2\" >The partner cooperates randomly with a given cooperation rate across the duration of the game</td>\n",
       "            </tr>\n",
       "            <tr>\n",
       "                                <td id=\"T_30af678c_ea51_11ea_9229_144f8aa73135row1_col0\" class=\"data row1 col0\" >T2</td>\n",
       "                        <td id=\"T_30af678c_ea51_11ea_9229_144f8aa73135row1_col1\" class=\"data row1 col1\" >other</td>\n",
       "                        <td id=\"T_30af678c_ea51_11ea_9229_144f8aa73135row1_col2\" class=\"data row1 col2\" >Other strategies</td>\n",
       "            </tr>\n",
       "    </tbody></table>"
      ],
      "text/plain": [
       "<pandas.io.formats.style.Styler at 0x212699aa7c8>"
      ]
     },
     "metadata": {},
     "output_type": "display_data"
    },
    {
     "name": "stdout",
     "output_type": "stream",
     "text": [
      "\\begin{tabular}{llll}\n",
      "\\toprule\n",
      "{} & treatment &                        IV value &                                        description \\\\\n",
      "\\midrule\n",
      "0 &        T1 &  preprogrammed\\_cooperation\\_rate &  The partner cooperates randomly with a given c... \\\\\n",
      "1 &        T2 &                           other &                                   Other strategies \\\\\n",
      "\\bottomrule\n",
      "\\end{tabular}\n",
      "\n",
      "\n",
      "The paper(s) that researched this topic is/are the following: \n",
      "http://dx.doi.org/10.1080/00224545.1970.9922453\n",
      "http://dx.doi.org/10.1177/0022002783027003007\n",
      "http://dx.doi.org/10.1177/0022002794038004006\n",
      "http://dx.doi.org/10.1177/002200276901300108\n"
     ]
    },
    {
     "name": "stderr",
     "output_type": "stream",
     "text": [
      "c:\\users\\roos\\tf\\lib\\site-packages\\ipykernel_launcher.py:3: DeprecationWarning: The default dtype for empty Series will be 'object' instead of 'float64' in a future version. Specify a dtype explicitly to silence this warning.\n",
      "  This is separate from the ipykernel package so we can avoid doing imports until\n",
      "c:\\users\\roos\\tf\\lib\\site-packages\\ipykernel_launcher.py:4: DeprecationWarning: The default dtype for empty Series will be 'object' instead of 'float64' in a future version. Specify a dtype explicitly to silence this warning.\n",
      "  after removing the cwd from sys.path.\n"
     ]
    },
    {
     "name": "stdout",
     "output_type": "stream",
     "text": [
      "\n",
      "\n",
      "Hypothesis 2: iterated strategy has positive effect on cooperation \n",
      "\n",
      "Dependent Variable (DV):  https://data.cooperationdatabank.org/id/dependentvariable/cooperation \n",
      "\n",
      "Independent Variable (IV):  https://data.cooperationdatabank.org/vocab/prop/iteratedStrategy https://data.cooperationdatabank.org/vocab/prop/iteratedStrategy_H9 \n",
      "Description IV:  The specific strategy played by the participant's partner in an iterated game. \n",
      "\n",
      "The IV categories that were researched and their descriptions are shown below: \n"
     ]
    },
    {
     "data": {
      "text/html": [
       "<style  type=\"text/css\" >\n",
       "</style><table id=\"T_3152e136_ea51_11ea_ba0f_144f8aa73135\" ><thead>    <tr>        <th class=\"col_heading level0 col0\" >treatment</th>        <th class=\"col_heading level0 col1\" >IV value</th>        <th class=\"col_heading level0 col2\" >description</th>    </tr></thead><tbody>\n",
       "                <tr>\n",
       "                                <td id=\"T_3152e136_ea51_11ea_ba0f_144f8aa73135row0_col0\" class=\"data row0 col0\" >T1</td>\n",
       "                        <td id=\"T_3152e136_ea51_11ea_ba0f_144f8aa73135row0_col1\" class=\"data row0 col1\" >predominantly_cooperative</td>\n",
       "                        <td id=\"T_3152e136_ea51_11ea_ba0f_144f8aa73135row0_col2\" class=\"data row0 col2\" >Partner cooperates over most trials, but the study doesn't specify the exact rate </td>\n",
       "            </tr>\n",
       "            <tr>\n",
       "                                <td id=\"T_3152e136_ea51_11ea_ba0f_144f8aa73135row1_col0\" class=\"data row1 col0\" >T2</td>\n",
       "                        <td id=\"T_3152e136_ea51_11ea_ba0f_144f8aa73135row1_col1\" class=\"data row1 col1\" >other</td>\n",
       "                        <td id=\"T_3152e136_ea51_11ea_ba0f_144f8aa73135row1_col2\" class=\"data row1 col2\" >Other strategies</td>\n",
       "            </tr>\n",
       "    </tbody></table>"
      ],
      "text/plain": [
       "<pandas.io.formats.style.Styler at 0x21269cf5dc8>"
      ]
     },
     "metadata": {},
     "output_type": "display_data"
    },
    {
     "name": "stdout",
     "output_type": "stream",
     "text": [
      "\\begin{tabular}{llll}\n",
      "\\toprule\n",
      "{} & treatment &                   IV value &                                        description \\\\\n",
      "\\midrule\n",
      "0 &        T1 &  predominantly\\_cooperative &  Partner cooperates over most trials, but the s... \\\\\n",
      "1 &        T2 &                      other &                                   Other strategies \\\\\n",
      "\\bottomrule\n",
      "\\end{tabular}\n",
      "\n",
      "\n",
      "The paper(s) that researched this topic is/are the following: \n",
      "http://dx.doi.org/10.3758/bf03328771\n",
      "\n",
      "\n",
      "Hypothesis 3: ethnicity (us) has positive effect on cooperation \n",
      "\n",
      "Dependent Variable (DV):  https://data.cooperationdatabank.org/id/dependentvariable/cooperation \n",
      "\n",
      "Independent Variable (IV):  https://data.cooperationdatabank.org/vocab/prop/ethnicityUS https://data.cooperationdatabank.org/vocab/prop/ethnicityUS_H1 \n",
      "Description IV:  Participant's ethnic group (values adopted from US Census). \n",
      "\n",
      "The IV categories that were researched and their descriptions are shown below: \n"
     ]
    },
    {
     "data": {
      "text/html": [
       "<style  type=\"text/css\" >\n",
       "</style><table id=\"T_31f7610c_ea51_11ea_bd1f_144f8aa73135\" ><thead>    <tr>        <th class=\"col_heading level0 col0\" >treatment</th>        <th class=\"col_heading level0 col1\" >IV value</th>        <th class=\"col_heading level0 col2\" >description</th>    </tr></thead><tbody>\n",
       "                <tr>\n",
       "                                <td id=\"T_31f7610c_ea51_11ea_bd1f_144f8aa73135row0_col0\" class=\"data row0 col0\" >T1</td>\n",
       "                        <td id=\"T_31f7610c_ea51_11ea_bd1f_144f8aa73135row0_col1\" class=\"data row0 col1\" >white</td>\n",
       "                        <td id=\"T_31f7610c_ea51_11ea_bd1f_144f8aa73135row0_col2\" class=\"data row0 col2\" >Europe, Middle East, North Africa</td>\n",
       "            </tr>\n",
       "            <tr>\n",
       "                                <td id=\"T_31f7610c_ea51_11ea_bd1f_144f8aa73135row1_col0\" class=\"data row1 col0\" >T2</td>\n",
       "                        <td id=\"T_31f7610c_ea51_11ea_bd1f_144f8aa73135row1_col1\" class=\"data row1 col1\" >black_or_african_american</td>\n",
       "                        <td id=\"T_31f7610c_ea51_11ea_bd1f_144f8aa73135row1_col2\" class=\"data row1 col2\" >Africa</td>\n",
       "            </tr>\n",
       "    </tbody></table>"
      ],
      "text/plain": [
       "<pandas.io.formats.style.Styler at 0x2126937afc8>"
      ]
     },
     "metadata": {},
     "output_type": "display_data"
    },
    {
     "name": "stdout",
     "output_type": "stream",
     "text": [
      "\\begin{tabular}{llll}\n",
      "\\toprule\n",
      "{} & treatment &                   IV value &                        description \\\\\n",
      "\\midrule\n",
      "0 &        T1 &                      white &  Europe, Middle East, North Africa \\\\\n",
      "1 &        T2 &  black\\_or\\_african\\_american &                             Africa \\\\\n",
      "\\bottomrule\n",
      "\\end{tabular}\n",
      "\n",
      "\n",
      "The paper(s) that researched this topic is/are the following: \n",
      "http://dx.doi.org/10.1016/j.jebo.2015.02.018\n",
      "http://dx.doi.org/10.1080/00224545.1970.9922453\n",
      "http://dx.doi.org/10.2466/pr0.1966.18.3.818\n",
      "http://dx.doi.org/10.1162/rest.2009.10174\n",
      "http://dx.doi.org/NA\n",
      "http://dx.doi.org/10.1080/00224545.1988.9713767\n",
      "\n",
      "\n",
      "Hypothesis 4: punishment treatment has negative effect on contributions \n",
      "\n",
      "Dependent Variable (DV):  https://data.cooperationdatabank.org/id/dependentvariable/contributions \n",
      "\n",
      "Independent Variable (IV):  https://data.cooperationdatabank.org/vocab/prop/punishmentTreatment https://data.cooperationdatabank.org/vocab/prop/punishmentTreatment_H3 \n",
      "Description IV:  Punishment is the (possible) imposition of negative payoffs on a specific participant after the regular round of play. \n",
      "\n",
      "The IV categories that were researched and their descriptions are shown below: \n"
     ]
    },
    {
     "data": {
      "text/html": [
       "<style  type=\"text/css\" >\n",
       "</style><table id=\"T_329c1512_ea51_11ea_8138_144f8aa73135\" ><thead>    <tr>        <th class=\"col_heading level0 col0\" >treatment</th>        <th class=\"col_heading level0 col1\" >IV value</th>        <th class=\"col_heading level0 col2\" >description</th>    </tr></thead><tbody>\n",
       "                <tr>\n",
       "                                <td id=\"T_329c1512_ea51_11ea_8138_144f8aa73135row0_col0\" class=\"data row0 col0\" >T1</td>\n",
       "                        <td id=\"T_329c1512_ea51_11ea_8138_144f8aa73135row0_col1\" class=\"data row0 col1\" >-1</td>\n",
       "                        <td id=\"T_329c1512_ea51_11ea_8138_144f8aa73135row0_col2\" class=\"data row0 col2\" >The baseline treatment. This is the treatment compared against any treatment coded as punishment treatment (= 1 identifies the punishment effect). This means that the treatment is equal to the punishment treatment, except for the availability of punishment (which includes other concepts that are part of punishment, such as punishment effectiveness, etc.)</td>\n",
       "            </tr>\n",
       "            <tr>\n",
       "                                <td id=\"T_329c1512_ea51_11ea_8138_144f8aa73135row1_col0\" class=\"data row1 col0\" >T2</td>\n",
       "                        <td id=\"T_329c1512_ea51_11ea_8138_144f8aa73135row1_col1\" class=\"data row1 col1\" >0</td>\n",
       "                        <td id=\"T_329c1512_ea51_11ea_8138_144f8aa73135row1_col2\" class=\"data row1 col2\" >Is not a punishment treatment. This is any treatment that is neither a punishment treatment nor a baseline relative to the punishment treatment (In practice, these are ignored in the platform)</td>\n",
       "            </tr>\n",
       "    </tbody></table>"
      ],
      "text/plain": [
       "<pandas.io.formats.style.Styler at 0x212699c7508>"
      ]
     },
     "metadata": {},
     "output_type": "display_data"
    },
    {
     "name": "stdout",
     "output_type": "stream",
     "text": [
      "\\begin{tabular}{llll}\n",
      "\\toprule\n",
      "{} & treatment & IV value &                                        description \\\\\n",
      "\\midrule\n",
      "0 &        T1 &       -1 &  The baseline treatment. This is the treatment ... \\\\\n",
      "1 &        T2 &        0 &  Is not a punishment treatment. This is any tre... \\\\\n",
      "\\bottomrule\n",
      "\\end{tabular}\n",
      "\n",
      "\n",
      "The paper(s) that researched this topic is/are the following: \n",
      "http://dx.doi.org/10.1371/journal.pone.0069871\n",
      "http://dx.doi.org/10.1038/ncomms12288\n",
      "http://dx.doi.org/10.1016/j.euroecorev.2012.05.003\n",
      "http://dx.doi.org/10.1016/j.jpubeco.2014.02.003\n",
      "\n",
      "\n",
      "Hypothesis 5: partner's group membership has negative effect on contributions \n",
      "\n",
      "Dependent Variable (DV):  https://data.cooperationdatabank.org/id/dependentvariable/contributions \n",
      "\n",
      "Independent Variable (IV):  https://data.cooperationdatabank.org/vocab/prop/targetMembership https://data.cooperationdatabank.org/vocab/prop/targetMembership_H5 \n",
      "Description IV:  Whether the participant is interacting with a partner identified as ingroup, outgroup, or stranger. \n",
      "\n",
      "The IV categories that were researched and their descriptions are shown below: \n"
     ]
    },
    {
     "data": {
      "text/html": [
       "<style  type=\"text/css\" >\n",
       "</style><table id=\"T_3355cb0a_ea51_11ea_b6ea_144f8aa73135\" ><thead>    <tr>        <th class=\"col_heading level0 col0\" >treatment</th>        <th class=\"col_heading level0 col1\" >IV value</th>        <th class=\"col_heading level0 col2\" >description</th>    </tr></thead><tbody>\n",
       "                <tr>\n",
       "                                <td id=\"T_3355cb0a_ea51_11ea_b6ea_144f8aa73135row0_col0\" class=\"data row0 col0\" >T1</td>\n",
       "                        <td id=\"T_3355cb0a_ea51_11ea_b6ea_144f8aa73135row0_col1\" class=\"data row0 col1\" >ingroup</td>\n",
       "                        <td id=\"T_3355cb0a_ea51_11ea_b6ea_144f8aa73135row0_col2\" class=\"data row0 col2\" >Partner(s) is a member of the participant's group</td>\n",
       "            </tr>\n",
       "            <tr>\n",
       "                                <td id=\"T_3355cb0a_ea51_11ea_b6ea_144f8aa73135row1_col0\" class=\"data row1 col0\" >T2</td>\n",
       "                        <td id=\"T_3355cb0a_ea51_11ea_b6ea_144f8aa73135row1_col1\" class=\"data row1 col1\" >ingroup_and_outgroup</td>\n",
       "                        <td id=\"T_3355cb0a_ea51_11ea_b6ea_144f8aa73135row1_col2\" class=\"data row1 col2\" >When an experimental treatment explicitly provides information that a partner or group belongs to both an ingroup and an outgroup</td>\n",
       "            </tr>\n",
       "    </tbody></table>"
      ],
      "text/plain": [
       "<pandas.io.formats.style.Styler at 0x21269d3e208>"
      ]
     },
     "metadata": {},
     "output_type": "display_data"
    },
    {
     "name": "stdout",
     "output_type": "stream",
     "text": [
      "\\begin{tabular}{llll}\n",
      "\\toprule\n",
      "{} & treatment &              IV value &                                        description \\\\\n",
      "\\midrule\n",
      "0 &        T1 &               ingroup &  Partner(s) is a member of the participant's group \\\\\n",
      "1 &        T2 &  ingroup\\_and\\_outgroup &  When an experimental treatment explicitly prov... \\\\\n",
      "\\bottomrule\n",
      "\\end{tabular}\n",
      "\n",
      "\n",
      "The paper(s) that researched this topic is/are the following: \n",
      "http://dx.doi.org/10.1016/j.joep.2013.06.005\n",
      "http://dx.doi.org/10.1177/0146167205282149\n",
      "http://dx.doi.org/10.1016/j.ijintrel.2011.02.017\n",
      "\n",
      "\n",
      "Hypothesis 6: svo type has negative effect on cooperation \n",
      "\n",
      "Dependent Variable (DV):  https://data.cooperationdatabank.org/id/dependentvariable/cooperation \n",
      "\n",
      "Independent Variable (IV):  https://data.cooperationdatabank.org/vocab/prop/sVOType https://data.cooperationdatabank.org/vocab/prop/sVOType_H4 \n",
      "Description IV:  Participants were classified according to the specific type of social value orientation that resulted in the SVO measure.  \n",
      "\n",
      "The IV categories that were researched and their descriptions are shown below: \n"
     ]
    },
    {
     "data": {
      "text/html": [
       "<style  type=\"text/css\" >\n",
       "</style><table id=\"T_34023da6_ea51_11ea_9c59_144f8aa73135\" ><thead>    <tr>        <th class=\"col_heading level0 col0\" >treatment</th>        <th class=\"col_heading level0 col1\" >IV value</th>        <th class=\"col_heading level0 col2\" >description</th>    </tr></thead><tbody>\n",
       "                <tr>\n",
       "                                <td id=\"T_34023da6_ea51_11ea_9c59_144f8aa73135row0_col0\" class=\"data row0 col0\" >T1</td>\n",
       "                        <td id=\"T_34023da6_ea51_11ea_9c59_144f8aa73135row0_col1\" class=\"data row0 col1\" >individualist</td>\n",
       "                        <td id=\"T_34023da6_ea51_11ea_9c59_144f8aa73135row0_col2\" class=\"data row0 col2\" >Individualists aim to maximize their own outcomes, regardless of the othersâ outcomes</td>\n",
       "            </tr>\n",
       "            <tr>\n",
       "                                <td id=\"T_34023da6_ea51_11ea_9c59_144f8aa73135row1_col0\" class=\"data row1 col0\" >T2</td>\n",
       "                        <td id=\"T_34023da6_ea51_11ea_9c59_144f8aa73135row1_col1\" class=\"data row1 col1\" >competitor</td>\n",
       "                        <td id=\"T_34023da6_ea51_11ea_9c59_144f8aa73135row1_col2\" class=\"data row1 col2\" >Competitors aim to maximize the relative difference between their own and the othersâ outcome</td>\n",
       "            </tr>\n",
       "    </tbody></table>"
      ],
      "text/plain": [
       "<pandas.io.formats.style.Styler at 0x212698c4c08>"
      ]
     },
     "metadata": {},
     "output_type": "display_data"
    },
    {
     "name": "stdout",
     "output_type": "stream",
     "text": [
      "\\begin{tabular}{llll}\n",
      "\\toprule\n",
      "{} & treatment &       IV value &                                        description \\\\\n",
      "\\midrule\n",
      "0 &        T1 &  individualist &  Individualists aim to maximize their own outco... \\\\\n",
      "1 &        T2 &     competitor &  Competitors aim to maximize the relative diffe... \\\\\n",
      "\\bottomrule\n",
      "\\end{tabular}\n",
      "\n",
      "\n",
      "The paper(s) that researched this topic is/are the following: \n",
      "nan\n",
      "http://dx.doi.org/10.1016/s0749-5978(02)00511-3\n",
      "http://dx.doi.org/10.1037//0022-3514.72.5.1093\n",
      "http://dx.doi.org/10.1037//0022-3514.32.5.922\n",
      "http://dx.doi.org/10.1037//0022-3514.34.1.69\n",
      "http://dx.doi.org/10.1111/jopy.12139\n",
      "http://dx.doi.org/10.1177/1948550617699256\n",
      "http://dx.doi.org/NA\n",
      "http://dx.doi.org/10.1037/0022-3514.77.6.1245\n",
      "http://dx.doi.org/10.1037//0022-3514.77.2.337\n",
      "http://dx.doi.org/10.1002/per.2410060505\n",
      "http://dx.doi.org/10.1037//0022-3514.77.4.762\n",
      "\n",
      "\n",
      "Hypothesis 7: time pressure has negative effect on contributions \n",
      "\n",
      "Dependent Variable (DV):  https://data.cooperationdatabank.org/id/dependentvariable/contributions \n",
      "\n",
      "Independent Variable (IV):  https://data.cooperationdatabank.org/vocab/prop/timePressure https://data.cooperationdatabank.org/vocab/prop/timePressure_H1 \n",
      "Description IV:  Whether participants were instructed to make their decisions in a limited amount of time or with a longer amount of time. \n",
      "\n",
      "The IV categories that were researched and their descriptions are shown below: \n"
     ]
    },
    {
     "data": {
      "text/html": [
       "<style  type=\"text/css\" >\n",
       "</style><table id=\"T_34ed9d30_ea51_11ea_bba0_144f8aa73135\" ><thead>    <tr>        <th class=\"col_heading level0 col0\" >treatment</th>        <th class=\"col_heading level0 col1\" >IV value</th>        <th class=\"col_heading level0 col2\" >description</th>    </tr></thead><tbody>\n",
       "                <tr>\n",
       "                                <td id=\"T_34ed9d30_ea51_11ea_bba0_144f8aa73135row0_col0\" class=\"data row0 col0\" >T1</td>\n",
       "                        <td id=\"T_34ed9d30_ea51_11ea_bba0_144f8aa73135row0_col1\" class=\"data row0 col1\" >time_pressure</td>\n",
       "                        <td id=\"T_34ed9d30_ea51_11ea_bba0_144f8aa73135row0_col2\" class=\"data row0 col2\" >Participants are given a limited amount of time and asked to make their decision as quickly as possible</td>\n",
       "            </tr>\n",
       "            <tr>\n",
       "                                <td id=\"T_34ed9d30_ea51_11ea_bba0_144f8aa73135row1_col0\" class=\"data row1 col0\" >T2</td>\n",
       "                        <td id=\"T_34ed9d30_ea51_11ea_bba0_144f8aa73135row1_col1\" class=\"data row1 col1\" >time_delay</td>\n",
       "                        <td id=\"T_34ed9d30_ea51_11ea_bba0_144f8aa73135row1_col2\" class=\"data row1 col2\" >Participants are given relatively more time to think carefully about their decision before making it</td>\n",
       "            </tr>\n",
       "    </tbody></table>"
      ],
      "text/plain": [
       "<pandas.io.formats.style.Styler at 0x21269d49fc8>"
      ]
     },
     "metadata": {},
     "output_type": "display_data"
    },
    {
     "name": "stdout",
     "output_type": "stream",
     "text": [
      "\\begin{tabular}{llll}\n",
      "\\toprule\n",
      "{} & treatment &       IV value &                                        description \\\\\n",
      "\\midrule\n",
      "0 &        T1 &  time\\_pressure &  Participants are given a limited amount of tim... \\\\\n",
      "1 &        T2 &     time\\_delay &  Participants are given relatively more time to... \\\\\n",
      "\\bottomrule\n",
      "\\end{tabular}\n",
      "\n",
      "\n",
      "The paper(s) that researched this topic is/are the following: \n",
      "nan\n",
      "http://dx.doi.org/10.1177/1745691617693624\n",
      "http://dx.doi.org/10.1016/j.jesp.2017.06.014\n",
      "http://dx.doi.org/10.1016/j.cognition.2016.02.014\n",
      "http://dx.doi.org/10.1038/nature11467\n",
      "http://dx.doi.org/10.1371/journal.pone.0096654\n",
      "\n",
      "\n",
      "Hypothesis 8: intergroup competition has positive effect on contributions \n",
      "\n",
      "Dependent Variable (DV):  https://data.cooperationdatabank.org/id/dependentvariable/contributions \n",
      "\n",
      "Independent Variable (IV):  https://data.cooperationdatabank.org/vocab/prop/intergroupComp https://data.cooperationdatabank.org/vocab/prop/intergroupComp_H1 \n",
      "Description IV:  A setting whereby multiple groups each experience a social dilemma, incentive structures can promote that groups compete for better outcomes (e.g., the group with better outcomes receives higher earnings), and/or group outcomes of the dilemmas are compared to each other (which can facilitate intergroup competition). \n",
      "\n",
      " \n",
      "\n",
      "The IV categories that were researched and their descriptions are shown below: \n"
     ]
    },
    {
     "data": {
      "text/html": [
       "<style  type=\"text/css\" >\n",
       "</style><table id=\"T_3598639c_ea51_11ea_bd94_144f8aa73135\" ><thead>    <tr>        <th class=\"col_heading level0 col0\" >treatment</th>        <th class=\"col_heading level0 col1\" >IV value</th>        <th class=\"col_heading level0 col2\" >description</th>    </tr></thead><tbody>\n",
       "                <tr>\n",
       "                                <td id=\"T_3598639c_ea51_11ea_bd94_144f8aa73135row0_col0\" class=\"data row0 col0\" >T1</td>\n",
       "                        <td id=\"T_3598639c_ea51_11ea_bd94_144f8aa73135row0_col1\" class=\"data row0 col1\" >individual_group</td>\n",
       "                        <td id=\"T_3598639c_ea51_11ea_bd94_144f8aa73135row0_col2\" class=\"data row0 col2\" >Group of individuals making decisions that only affect that group</td>\n",
       "            </tr>\n",
       "            <tr>\n",
       "                                <td id=\"T_3598639c_ea51_11ea_bd94_144f8aa73135row1_col0\" class=\"data row1 col0\" >T2</td>\n",
       "                        <td id=\"T_3598639c_ea51_11ea_bd94_144f8aa73135row1_col1\" class=\"data row1 col1\" >intergroup_competition</td>\n",
       "                        <td id=\"T_3598639c_ea51_11ea_bd94_144f8aa73135row1_col2\" class=\"data row1 col2\" >Two groups and the higher earning group wins, or earns more</td>\n",
       "            </tr>\n",
       "    </tbody></table>"
      ],
      "text/plain": [
       "<pandas.io.formats.style.Styler at 0x21269d3e688>"
      ]
     },
     "metadata": {},
     "output_type": "display_data"
    },
    {
     "name": "stdout",
     "output_type": "stream",
     "text": [
      "\\begin{tabular}{llll}\n",
      "\\toprule\n",
      "{} & treatment &                IV value &                                        description \\\\\n",
      "\\midrule\n",
      "0 &        T1 &        individual\\_group &  Group of individuals making decisions that onl... \\\\\n",
      "1 &        T2 &  intergroup\\_competition &  Two groups and the higher earning group wins, ... \\\\\n",
      "\\bottomrule\n",
      "\\end{tabular}\n",
      "\n",
      "\n",
      "The paper(s) that researched this topic is/are the following: \n",
      "nan\n",
      "http://dx.doi.org/10.1371/journal.pone.0157840\n",
      "http://dx.doi.org/10.1037/0022-3514.62.2.238\n",
      "http://dx.doi.org/NA\n",
      "http://dx.doi.org/10.1016/j.obhdp.2005.08.005\n",
      "http://dx.doi.org/10.1177/002200276901300305\n",
      "\n",
      "\n",
      "Hypothesis 9: anonymity manipulation has positive effect on cooperation \n",
      "\n",
      "Dependent Variable (DV):  https://data.cooperationdatabank.org/id/dependentvariable/cooperation \n",
      "\n",
      "Independent Variable (IV):  https://data.cooperationdatabank.org/vocab/prop/anonymityManipul https://data.cooperationdatabank.org/vocab/prop/anonymityManipul_H1 \n",
      "Description IV:  Degree to which participants' actions were identifiable by their partner(s) and/or the experimenter. \n",
      "\n",
      "The IV categories that were researched and their descriptions are shown below: \n"
     ]
    },
    {
     "data": {
      "text/html": [
       "<style  type=\"text/css\" >\n",
       "</style><table id=\"T_3645635c_ea51_11ea_a13b_144f8aa73135\" ><thead>    <tr>        <th class=\"col_heading level0 col0\" >treatment</th>        <th class=\"col_heading level0 col1\" >IV value</th>        <th class=\"col_heading level0 col2\" >description</th>    </tr></thead><tbody>\n",
       "                <tr>\n",
       "                                <td id=\"T_3645635c_ea51_11ea_a13b_144f8aa73135row0_col0\" class=\"data row0 col0\" >T1</td>\n",
       "                        <td id=\"T_3645635c_ea51_11ea_a13b_144f8aa73135row0_col1\" class=\"data row0 col1\" >high</td>\n",
       "                        <td id=\"T_3645635c_ea51_11ea_a13b_144f8aa73135row0_col2\" class=\"data row0 col2\" >The treatment was classified as having a relative high level of anonymity</td>\n",
       "            </tr>\n",
       "            <tr>\n",
       "                                <td id=\"T_3645635c_ea51_11ea_a13b_144f8aa73135row1_col0\" class=\"data row1 col0\" >T2</td>\n",
       "                        <td id=\"T_3645635c_ea51_11ea_a13b_144f8aa73135row1_col1\" class=\"data row1 col1\" >low</td>\n",
       "                        <td id=\"T_3645635c_ea51_11ea_a13b_144f8aa73135row1_col2\" class=\"data row1 col2\" >The treatment was classified as having a relative low level of anonymity</td>\n",
       "            </tr>\n",
       "    </tbody></table>"
      ],
      "text/plain": [
       "<pandas.io.formats.style.Styler at 0x212699aa988>"
      ]
     },
     "metadata": {},
     "output_type": "display_data"
    },
    {
     "name": "stdout",
     "output_type": "stream",
     "text": [
      "\\begin{tabular}{llll}\n",
      "\\toprule\n",
      "{} & treatment & IV value &                                        description \\\\\n",
      "\\midrule\n",
      "0 &        T1 &     high &  The treatment was classified as having a relat... \\\\\n",
      "1 &        T2 &      low &  The treatment was classified as having a relat... \\\\\n",
      "\\bottomrule\n",
      "\\end{tabular}\n",
      "\n",
      "\n",
      "The paper(s) that researched this topic is/are the following: \n",
      "http://dx.doi.org/10.1080/17565529.2016.1174664\n",
      "http://dx.doi.org/10.1016/j.jpubeco.2007.11.004\n",
      "nan\n",
      "http://dx.doi.org/10.1098/rspb.2017.0689\n",
      "http://dx.doi.org/10.1016/0167-2681(93)90001-6\n",
      "http://dx.doi.org/10.1080/00224540209603917\n",
      "http://dx.doi.org/10.1006/jmps.1997.1203\n",
      "http://dx.doi.org/10.1093/scan/nst040\n",
      "http://dx.doi.org/10.1016/j.jebo.2017.07.007\n",
      "http://dx.doi.org/10.1016/j.geb.2017.08.002\n",
      "http://dx.doi.org/10.1007/s10683-013-9377-5\n",
      "http://dx.doi.org/10.1556/jep.11.2013.3.3\n",
      "http://dx.doi.org/10.1037/h0037450\n",
      "http://dx.doi.org/10.2139/ssrn.2556325\n",
      "http://dx.doi.org/10.1016/0167-2681(94)00073-n\n",
      "http://dx.doi.org/10.1016/S0047-2727(03)00021-5\n",
      "http://dx.doi.org/10.1177/002200276500900308\n",
      "http://dx.doi.org/10.1016/j.jesp.2017.02.008\n",
      "http://dx.doi.org/10.1007/s10683-013-9389-1\n",
      "http://dx.doi.org/10.1037/h0082799\n",
      "http://dx.doi.org/10.1177/1368430209342258\n",
      "http://dx.doi.org/10.1111/j.2044-8295.2011.02093.x\n",
      "\n",
      "\n",
      "Hypothesis 10: mpcr has positive effect on contributions \n",
      "\n",
      "Dependent Variable (DV):  https://data.cooperationdatabank.org/id/dependentvariable/contributions \n",
      "\n",
      "Independent Variable (IV):  https://data.cooperationdatabank.org/vocab/prop/mPCR https://data.cooperationdatabank.org/vocab/prop/mPCR_H2 \n",
      "Description IV:  The ratio of benefits to costs for a member to contribute one monetary unit to the group account. Calculated as multiplier divided by group size. \n",
      "\n",
      "The IV categories that were researched and their descriptions are shown below: \n"
     ]
    },
    {
     "data": {
      "text/html": [
       "<style  type=\"text/css\" >\n",
       "</style><table id=\"T_37213828_ea51_11ea_8349_144f8aa73135\" ><thead>    <tr>        <th class=\"col_heading level0 col0\" >treatment</th>        <th class=\"col_heading level0 col1\" >IV value</th>    </tr></thead><tbody>\n",
       "                <tr>\n",
       "                                <td id=\"T_37213828_ea51_11ea_8349_144f8aa73135row0_col0\" class=\"data row0 col0\" >T1</td>\n",
       "                        <td id=\"T_37213828_ea51_11ea_8349_144f8aa73135row0_col1\" class=\"data row0 col1\" >(-0.401, 0.3]</td>\n",
       "            </tr>\n",
       "            <tr>\n",
       "                                <td id=\"T_37213828_ea51_11ea_8349_144f8aa73135row1_col0\" class=\"data row1 col0\" >T2</td>\n",
       "                        <td id=\"T_37213828_ea51_11ea_8349_144f8aa73135row1_col1\" class=\"data row1 col1\" >(0.3, 0.5]</td>\n",
       "            </tr>\n",
       "    </tbody></table>"
      ],
      "text/plain": [
       "<pandas.io.formats.style.Styler at 0x21269cf1508>"
      ]
     },
     "metadata": {},
     "output_type": "display_data"
    },
    {
     "name": "stdout",
     "output_type": "stream",
     "text": [
      "\\begin{tabular}{lll}\n",
      "\\toprule\n",
      "{} & treatment &       IV value \\\\\n",
      "\\midrule\n",
      "0 &        T1 &  (-0.401, 0.3] \\\\\n",
      "1 &        T2 &     (0.3, 0.5] \\\\\n",
      "\\bottomrule\n",
      "\\end{tabular}\n",
      "\n",
      "\n",
      "The paper(s) that researched this topic is/are the following: \n",
      "http://dx.doi.org/10.1007/s10726-006-9067-1\n",
      "http://dx.doi.org/10.1016/0167-2681(93)90001-6\n",
      "http://dx.doi.org/10.1016/j.euroecorev.2017.07.013\n",
      "http://dx.doi.org/10.1371/journal.pone.0120379\n",
      "\n",
      "\n",
      "HYPOTHESES WITH VERY LOW PROBABILITIES\n",
      "\n",
      "\n",
      "Hypothesis 551: emotion has positive effect on cooperation \n",
      "\n",
      "Dependent Variable (DV):  https://data.cooperationdatabank.org/id/dependentvariable/cooperation \n",
      "\n",
      "Independent Variable (IV):  https://data.cooperationdatabank.org/vocab/prop/emotion https://data.cooperationdatabank.org/vocab/prop/emotion_H10 \n",
      "Description IV:  Emotions are discrete, automatic responses to universally shared, culture-specific and individual-specific events (Ekman & Cordaro, 2011).  \n",
      "\n",
      "The IV categories that were researched and their descriptions are shown below: \n"
     ]
    },
    {
     "data": {
      "text/html": [
       "<style  type=\"text/css\" >\n",
       "</style><table id=\"T_37d8955c_ea51_11ea_8eb9_144f8aa73135\" ><thead>    <tr>        <th class=\"col_heading level0 col0\" >treatment</th>        <th class=\"col_heading level0 col1\" >IV value</th>        <th class=\"col_heading level0 col2\" >description</th>    </tr></thead><tbody>\n",
       "                <tr>\n",
       "                                <td id=\"T_37d8955c_ea51_11ea_8eb9_144f8aa73135row0_col0\" class=\"data row0 col0\" >T1</td>\n",
       "                        <td id=\"T_37d8955c_ea51_11ea_8eb9_144f8aa73135row0_col1\" class=\"data row0 col1\" >neutral</td>\n",
       "                        <td id=\"T_37d8955c_ea51_11ea_8eb9_144f8aa73135row0_col2\" class=\"data row0 col2\" >Often used as a baseline in studies that elicit emotions. Participants are exposed either to stimuli with neutral emotional valence or engage in a non-emotional control task</td>\n",
       "            </tr>\n",
       "            <tr>\n",
       "                                <td id=\"T_37d8955c_ea51_11ea_8eb9_144f8aa73135row1_col0\" class=\"data row1 col0\" >T2</td>\n",
       "                        <td id=\"T_37d8955c_ea51_11ea_8eb9_144f8aa73135row1_col1\" class=\"data row1 col1\" >disappointment</td>\n",
       "                        <td id=\"T_37d8955c_ea51_11ea_8eb9_144f8aa73135row1_col2\" class=\"data row1 col2\" >A response to unfulfilled positive expectations (Van Dijk et al., 1999)</td>\n",
       "            </tr>\n",
       "    </tbody></table>"
      ],
      "text/plain": [
       "<pandas.io.formats.style.Styler at 0x21269d4e4c8>"
      ]
     },
     "metadata": {},
     "output_type": "display_data"
    },
    {
     "name": "stdout",
     "output_type": "stream",
     "text": [
      "\\begin{tabular}{llll}\n",
      "\\toprule\n",
      "{} & treatment &        IV value &                                        description \\\\\n",
      "\\midrule\n",
      "0 &        T1 &         neutral &  Often used as a baseline in studies that elici... \\\\\n",
      "1 &        T2 &  disappointment &  A response to unfulfilled positive expectation... \\\\\n",
      "\\bottomrule\n",
      "\\end{tabular}\n",
      "\n",
      "\n",
      "The paper(s) that researched this topic is/are the following: \n",
      "http://dx.doi.org/10.1080/02699931.2010.485889\n",
      "\n",
      "\n",
      "Hypothesis 552: exit option has positive effect on contributions \n",
      "\n",
      "Dependent Variable (DV):  https://data.cooperationdatabank.org/id/dependentvariable/contributions \n",
      "\n",
      "Independent Variable (IV):  https://data.cooperationdatabank.org/vocab/prop/exitOption https://data.cooperationdatabank.org/vocab/prop/exitOption_H1 \n",
      "Description IV:  Whether the game provided the option to walk away and not interact in the game. TRUE = Exit option is provided, FALSE = Exit option is not provided \n",
      "\n",
      "The IV categories that were researched and their descriptions are shown below: \n"
     ]
    },
    {
     "data": {
      "text/html": [
       "<style  type=\"text/css\" >\n",
       "</style><table id=\"T_3879dffa_ea51_11ea_9c2e_144f8aa73135\" ><thead>    <tr>        <th class=\"col_heading level0 col0\" >treatment</th>        <th class=\"col_heading level0 col1\" >IV value</th>    </tr></thead><tbody>\n",
       "                <tr>\n",
       "                                <td id=\"T_3879dffa_ea51_11ea_9c2e_144f8aa73135row0_col0\" class=\"data row0 col0\" >T1</td>\n",
       "                        <td id=\"T_3879dffa_ea51_11ea_9c2e_144f8aa73135row0_col1\" class=\"data row0 col1\" >0</td>\n",
       "            </tr>\n",
       "            <tr>\n",
       "                                <td id=\"T_3879dffa_ea51_11ea_9c2e_144f8aa73135row1_col0\" class=\"data row1 col0\" >T2</td>\n",
       "                        <td id=\"T_3879dffa_ea51_11ea_9c2e_144f8aa73135row1_col1\" class=\"data row1 col1\" >1</td>\n",
       "            </tr>\n",
       "    </tbody></table>"
      ],
      "text/plain": [
       "<pandas.io.formats.style.Styler at 0x21269d7c2c8>"
      ]
     },
     "metadata": {},
     "output_type": "display_data"
    },
    {
     "name": "stdout",
     "output_type": "stream",
     "text": [
      "\\begin{tabular}{lll}\n",
      "\\toprule\n",
      "{} & treatment & IV value \\\\\n",
      "\\midrule\n",
      "0 &        T1 &        0 \\\\\n",
      "1 &        T2 &        1 \\\\\n",
      "\\bottomrule\n",
      "\\end{tabular}\n",
      "\n",
      "\n",
      "The paper(s) that researched this topic is/are the following: \n",
      "http://dx.doi.org/10.1371/journal.pone.0069871\n",
      "http://dx.doi.org/10.1037/h0024598\n",
      "\n",
      "\n",
      "Hypothesis 553: nationality or region has negative effect on contributions \n",
      "\n",
      "Dependent Variable (DV):  https://data.cooperationdatabank.org/id/dependentvariable/contributions \n",
      "\n",
      "Independent Variable (IV):  https://data.cooperationdatabank.org/vocab/prop/nationality https://data.cooperationdatabank.org/vocab/prop/nationality_H23 \n",
      "Description IV:  Participant's nationality according to ISO-3 Country Code. \n",
      "\n",
      "The IV categories that were researched and their descriptions are shown below: \n"
     ]
    },
    {
     "data": {
      "text/html": [
       "<style  type=\"text/css\" >\n",
       "</style><table id=\"T_38decbee_ea51_11ea_a700_144f8aa73135\" ><thead>    <tr>        <th class=\"col_heading level0 col0\" >treatment</th>        <th class=\"col_heading level0 col1\" >IV value</th>    </tr></thead><tbody>\n",
       "                <tr>\n",
       "                                <td id=\"T_38decbee_ea51_11ea_a700_144f8aa73135row0_col0\" class=\"data row0 col0\" >T1</td>\n",
       "                        <td id=\"T_38decbee_ea51_11ea_a700_144f8aa73135row0_col1\" class=\"data row0 col1\" >JPN</td>\n",
       "            </tr>\n",
       "            <tr>\n",
       "                                <td id=\"T_38decbee_ea51_11ea_a700_144f8aa73135row1_col0\" class=\"data row1 col0\" >T2</td>\n",
       "                        <td id=\"T_38decbee_ea51_11ea_a700_144f8aa73135row1_col1\" class=\"data row1 col1\" >AUS</td>\n",
       "            </tr>\n",
       "    </tbody></table>"
      ],
      "text/plain": [
       "<pandas.io.formats.style.Styler at 0x21269d08448>"
      ]
     },
     "metadata": {},
     "output_type": "display_data"
    },
    {
     "name": "stdout",
     "output_type": "stream",
     "text": [
      "\\begin{tabular}{lll}\n",
      "\\toprule\n",
      "{} & treatment & IV value \\\\\n",
      "\\midrule\n",
      "0 &        T1 &      JPN \\\\\n",
      "1 &        T2 &      AUS \\\\\n",
      "\\bottomrule\n",
      "\\end{tabular}\n",
      "\n",
      "\n",
      "The paper(s) that researched this topic is/are the following: \n",
      "http://dx.doi.org/10.1111/j.1467-839x.2005.00165.x\n",
      "\n",
      "\n",
      "Hypothesis 554: emotion has negative effect on cooperation \n",
      "\n",
      "Dependent Variable (DV):  https://data.cooperationdatabank.org/id/dependentvariable/cooperation \n",
      "\n",
      "Independent Variable (IV):  https://data.cooperationdatabank.org/vocab/prop/emotion https://data.cooperationdatabank.org/vocab/prop/emotion_H10 \n",
      "Description IV:  Emotions are discrete, automatic responses to universally shared, culture-specific and individual-specific events (Ekman & Cordaro, 2011).  \n",
      "\n",
      "The IV categories that were researched and their descriptions are shown below: \n"
     ]
    },
    {
     "data": {
      "text/html": [
       "<style  type=\"text/css\" >\n",
       "</style><table id=\"T_39950d6e_ea51_11ea_b72b_144f8aa73135\" ><thead>    <tr>        <th class=\"col_heading level0 col0\" >treatment</th>        <th class=\"col_heading level0 col1\" >IV value</th>        <th class=\"col_heading level0 col2\" >description</th>    </tr></thead><tbody>\n",
       "                <tr>\n",
       "                                <td id=\"T_39950d6e_ea51_11ea_b72b_144f8aa73135row0_col0\" class=\"data row0 col0\" >T1</td>\n",
       "                        <td id=\"T_39950d6e_ea51_11ea_b72b_144f8aa73135row0_col1\" class=\"data row0 col1\" >neutral</td>\n",
       "                        <td id=\"T_39950d6e_ea51_11ea_b72b_144f8aa73135row0_col2\" class=\"data row0 col2\" >Often used as a baseline in studies that elicit emotions. Participants are exposed either to stimuli with neutral emotional valence or engage in a non-emotional control task</td>\n",
       "            </tr>\n",
       "            <tr>\n",
       "                                <td id=\"T_39950d6e_ea51_11ea_b72b_144f8aa73135row1_col0\" class=\"data row1 col0\" >T2</td>\n",
       "                        <td id=\"T_39950d6e_ea51_11ea_b72b_144f8aa73135row1_col1\" class=\"data row1 col1\" >disappointment</td>\n",
       "                        <td id=\"T_39950d6e_ea51_11ea_b72b_144f8aa73135row1_col2\" class=\"data row1 col2\" >A response to unfulfilled positive expectations (Van Dijk et al., 1999)</td>\n",
       "            </tr>\n",
       "    </tbody></table>"
      ],
      "text/plain": [
       "<pandas.io.formats.style.Styler at 0x2126972cbc8>"
      ]
     },
     "metadata": {},
     "output_type": "display_data"
    },
    {
     "name": "stdout",
     "output_type": "stream",
     "text": [
      "\\begin{tabular}{llll}\n",
      "\\toprule\n",
      "{} & treatment &        IV value &                                        description \\\\\n",
      "\\midrule\n",
      "0 &        T1 &         neutral &  Often used as a baseline in studies that elici... \\\\\n",
      "1 &        T2 &  disappointment &  A response to unfulfilled positive expectation... \\\\\n",
      "\\bottomrule\n",
      "\\end{tabular}\n",
      "\n",
      "\n",
      "The paper(s) that researched this topic is/are the following: \n",
      "http://dx.doi.org/10.1080/02699931.2010.485889\n",
      "\n",
      "\n",
      "Hypothesis 555: preference for conditional cooperation has positive effect on cooperation \n",
      "\n",
      "Dependent Variable (DV):  https://data.cooperationdatabank.org/id/dependentvariable/cooperation \n",
      "\n",
      "Independent Variable (IV):  https://data.cooperationdatabank.org/vocab/prop/preferenceConditionalCooperation https://data.cooperationdatabank.org/vocab/prop/preferenceConditionalCooperation_H4 \n",
      "Description IV:  Participants are classified as having a specific dispositional strategy of cooperation using a strategy method (see Fischbacher et al. 2001).  \n",
      "\n",
      "The IV categories that were researched and their descriptions are shown below: \n"
     ]
    },
    {
     "data": {
      "text/html": [
       "<style  type=\"text/css\" >\n",
       "</style><table id=\"T_3a4c90d8_ea51_11ea_ae40_144f8aa73135\" ><thead>    <tr>        <th class=\"col_heading level0 col0\" >treatment</th>        <th class=\"col_heading level0 col1\" >IV value</th>        <th class=\"col_heading level0 col2\" >description</th>    </tr></thead><tbody>\n",
       "                <tr>\n",
       "                                <td id=\"T_3a4c90d8_ea51_11ea_ae40_144f8aa73135row0_col0\" class=\"data row0 col0\" >T1</td>\n",
       "                        <td id=\"T_3a4c90d8_ea51_11ea_ae40_144f8aa73135row0_col1\" class=\"data row0 col1\" >freeriders</td>\n",
       "                        <td id=\"T_3a4c90d8_ea51_11ea_ae40_144f8aa73135row0_col2\" class=\"data row0 col2\" >Using the strategy method of contributions to public goods by Fischbacher et al. (2001), participants who always contributed nothing to the public good</td>\n",
       "            </tr>\n",
       "            <tr>\n",
       "                                <td id=\"T_3a4c90d8_ea51_11ea_ae40_144f8aa73135row1_col0\" class=\"data row1 col0\" >T2</td>\n",
       "                        <td id=\"T_3a4c90d8_ea51_11ea_ae40_144f8aa73135row1_col1\" class=\"data row1 col1\" >hump-shaped_contributors</td>\n",
       "                        <td id=\"T_3a4c90d8_ea51_11ea_ae40_144f8aa73135row1_col2\" class=\"data row1 col2\" >Using the strategy method of contributions to public goods by Fischbacher et al. (2001), participants who initially provide increasing amounts to the public good according to increasing average group contributions, but then at some point give a significantly decreasing amount to the public good</td>\n",
       "            </tr>\n",
       "    </tbody></table>"
      ],
      "text/plain": [
       "<pandas.io.formats.style.Styler at 0x21269d7b208>"
      ]
     },
     "metadata": {},
     "output_type": "display_data"
    },
    {
     "name": "stdout",
     "output_type": "stream",
     "text": [
      "\\begin{tabular}{llll}\n",
      "\\toprule\n",
      "{} & treatment &                  IV value &                                        description \\\\\n",
      "\\midrule\n",
      "0 &        T1 &                freeriders &  Using the strategy method of contributions to ... \\\\\n",
      "1 &        T2 &  hump-shaped\\_contributors &  Using the strategy method of contributions to ... \\\\\n",
      "\\bottomrule\n",
      "\\end{tabular}\n",
      "\n",
      "\n",
      "The paper(s) that researched this topic is/are the following: \n",
      "http://dx.doi.org/10.2139/ssrn.203288\n",
      "\n",
      "\n",
      "Hypothesis 556: preference for conditional cooperation has negative effect on cooperation \n",
      "\n",
      "Dependent Variable (DV):  https://data.cooperationdatabank.org/id/dependentvariable/cooperation \n",
      "\n",
      "Independent Variable (IV):  https://data.cooperationdatabank.org/vocab/prop/preferenceConditionalCooperation https://data.cooperationdatabank.org/vocab/prop/preferenceConditionalCooperation_H4 \n",
      "Description IV:  Participants are classified as having a specific dispositional strategy of cooperation using a strategy method (see Fischbacher et al. 2001).  \n",
      "\n",
      "The IV categories that were researched and their descriptions are shown below: \n"
     ]
    },
    {
     "data": {
      "text/html": [
       "<style  type=\"text/css\" >\n",
       "</style><table id=\"T_3aec673e_ea51_11ea_9ae4_144f8aa73135\" ><thead>    <tr>        <th class=\"col_heading level0 col0\" >treatment</th>        <th class=\"col_heading level0 col1\" >IV value</th>        <th class=\"col_heading level0 col2\" >description</th>    </tr></thead><tbody>\n",
       "                <tr>\n",
       "                                <td id=\"T_3aec673e_ea51_11ea_9ae4_144f8aa73135row0_col0\" class=\"data row0 col0\" >T1</td>\n",
       "                        <td id=\"T_3aec673e_ea51_11ea_9ae4_144f8aa73135row0_col1\" class=\"data row0 col1\" >freeriders</td>\n",
       "                        <td id=\"T_3aec673e_ea51_11ea_9ae4_144f8aa73135row0_col2\" class=\"data row0 col2\" >Using the strategy method of contributions to public goods by Fischbacher et al. (2001), participants who always contributed nothing to the public good</td>\n",
       "            </tr>\n",
       "            <tr>\n",
       "                                <td id=\"T_3aec673e_ea51_11ea_9ae4_144f8aa73135row1_col0\" class=\"data row1 col0\" >T2</td>\n",
       "                        <td id=\"T_3aec673e_ea51_11ea_9ae4_144f8aa73135row1_col1\" class=\"data row1 col1\" >hump-shaped_contributors</td>\n",
       "                        <td id=\"T_3aec673e_ea51_11ea_9ae4_144f8aa73135row1_col2\" class=\"data row1 col2\" >Using the strategy method of contributions to public goods by Fischbacher et al. (2001), participants who initially provide increasing amounts to the public good according to increasing average group contributions, but then at some point give a significantly decreasing amount to the public good</td>\n",
       "            </tr>\n",
       "    </tbody></table>"
      ],
      "text/plain": [
       "<pandas.io.formats.style.Styler at 0x21269d74748>"
      ]
     },
     "metadata": {},
     "output_type": "display_data"
    },
    {
     "name": "stdout",
     "output_type": "stream",
     "text": [
      "\\begin{tabular}{llll}\n",
      "\\toprule\n",
      "{} & treatment &                  IV value &                                        description \\\\\n",
      "\\midrule\n",
      "0 &        T1 &                freeriders &  Using the strategy method of contributions to ... \\\\\n",
      "1 &        T2 &  hump-shaped\\_contributors &  Using the strategy method of contributions to ... \\\\\n",
      "\\bottomrule\n",
      "\\end{tabular}\n",
      "\n",
      "\n",
      "The paper(s) that researched this topic is/are the following: \n",
      "http://dx.doi.org/10.2139/ssrn.203288\n",
      "\n",
      "\n",
      "Hypothesis 557: uncertainty target has negative effect on cooperation \n",
      "\n",
      "Dependent Variable (DV):  https://data.cooperationdatabank.org/id/dependentvariable/cooperation \n",
      "\n",
      "Independent Variable (IV):  https://data.cooperationdatabank.org/vocab/prop/uncertaintyTarget https://data.cooperationdatabank.org/vocab/prop/uncertaintyTarget_H1 \n",
      "Description IV:  Whether participants receive uncertain information about a certain aspect of the game. This also includes receiving detailed vs less specific information, as well as events happening certainly versus events happening with a probability. \n",
      "\n",
      "The IV categories that were researched and their descriptions are shown below: \n"
     ]
    },
    {
     "data": {
      "text/html": [
       "<style  type=\"text/css\" >\n",
       "</style><table id=\"T_3b9595dc_ea51_11ea_a685_144f8aa73135\" ><thead>    <tr>        <th class=\"col_heading level0 col0\" >treatment</th>        <th class=\"col_heading level0 col1\" >IV value</th>        <th class=\"col_heading level0 col2\" >description</th>    </tr></thead><tbody>\n",
       "                <tr>\n",
       "                                <td id=\"T_3b9595dc_ea51_11ea_a685_144f8aa73135row0_col0\" class=\"data row0 col0\" >T1</td>\n",
       "                        <td id=\"T_3b9595dc_ea51_11ea_a685_144f8aa73135row0_col1\" class=\"data row0 col1\" >loss</td>\n",
       "                        <td id=\"T_3b9595dc_ea51_11ea_a685_144f8aa73135row0_col2\" class=\"data row0 col2\" >Negative payoff that resulted in a loss of resources due to endogenous (e.g., not reaching a threshold) or exogenous  (e.g., shocks) factors</td>\n",
       "            </tr>\n",
       "            <tr>\n",
       "                                <td id=\"T_3b9595dc_ea51_11ea_a685_144f8aa73135row1_col0\" class=\"data row1 col0\" >T2</td>\n",
       "                        <td id=\"T_3b9595dc_ea51_11ea_a685_144f8aa73135row1_col1\" class=\"data row1 col1\" >threshold</td>\n",
       "                        <td id=\"T_3b9595dc_ea51_11ea_a685_144f8aa73135row1_col2\" class=\"data row1 col2\" >The minimum threshold of total contribution by all group members for the public good to be provided or the occurrence of a loss (e.g., in case of public bad games)</td>\n",
       "            </tr>\n",
       "    </tbody></table>"
      ],
      "text/plain": [
       "<pandas.io.formats.style.Styler at 0x21269d86dc8>"
      ]
     },
     "metadata": {},
     "output_type": "display_data"
    },
    {
     "name": "stdout",
     "output_type": "stream",
     "text": [
      "\\begin{tabular}{llll}\n",
      "\\toprule\n",
      "{} & treatment &   IV value &                                        description \\\\\n",
      "\\midrule\n",
      "0 &        T1 &       loss &  Negative payoff that resulted in a loss of res... \\\\\n",
      "1 &        T2 &  threshold &  The minimum threshold of total contribution by... \\\\\n",
      "\\bottomrule\n",
      "\\end{tabular}\n",
      "\n",
      "\n",
      "The paper(s) that researched this topic is/are the following: \n",
      "http://dx.doi.org/10.1073/pnas.1208417109\n",
      "\n",
      "\n",
      "Hypothesis 558: iterated strategy has positive effect on contributions \n",
      "\n",
      "Dependent Variable (DV):  https://data.cooperationdatabank.org/id/dependentvariable/contributions \n",
      "\n",
      "Independent Variable (IV):  https://data.cooperationdatabank.org/vocab/prop/iteratedStrategy https://data.cooperationdatabank.org/vocab/prop/iteratedStrategy_H14 \n",
      "Description IV:  The specific strategy played by the participant's partner in an iterated game. \n",
      "\n",
      "The IV categories that were researched and their descriptions are shown below: \n"
     ]
    },
    {
     "data": {
      "text/html": [
       "<style  type=\"text/css\" >\n",
       "</style><table id=\"T_3c33a82e_ea51_11ea_b5df_144f8aa73135\" ><thead>    <tr>        <th class=\"col_heading level0 col0\" >treatment</th>        <th class=\"col_heading level0 col1\" >IV value</th>        <th class=\"col_heading level0 col2\" >description</th>    </tr></thead><tbody>\n",
       "                <tr>\n",
       "                                <td id=\"T_3c33a82e_ea51_11ea_b5df_144f8aa73135row0_col0\" class=\"data row0 col0\" >T1</td>\n",
       "                        <td id=\"T_3c33a82e_ea51_11ea_b5df_144f8aa73135row0_col1\" class=\"data row0 col1\" >tit-for-tat</td>\n",
       "                        <td id=\"T_3c33a82e_ea51_11ea_b5df_144f8aa73135row0_col2\" class=\"data row0 col2\" >The partner cooperates on the first trial, then copies the previous choices of the focal participant on each subsequent trial</td>\n",
       "            </tr>\n",
       "            <tr>\n",
       "                                <td id=\"T_3c33a82e_ea51_11ea_b5df_144f8aa73135row1_col0\" class=\"data row1 col0\" >T2</td>\n",
       "                        <td id=\"T_3c33a82e_ea51_11ea_b5df_144f8aa73135row1_col1\" class=\"data row1 col1\" >tit-for-tat+1</td>\n",
       "                        <td id=\"T_3c33a82e_ea51_11ea_b5df_144f8aa73135row1_col2\" class=\"data row1 col2\" >The partner cooperates on the first trial, and then copies the choices of the focal participant with a delay (i.e., cooperates when the focal agent cooperates, but defects only after two consecutive defections from the focal participant)</td>\n",
       "            </tr>\n",
       "    </tbody></table>"
      ],
      "text/plain": [
       "<pandas.io.formats.style.Styler at 0x21269d8c648>"
      ]
     },
     "metadata": {},
     "output_type": "display_data"
    },
    {
     "name": "stdout",
     "output_type": "stream",
     "text": [
      "\\begin{tabular}{llll}\n",
      "\\toprule\n",
      "{} & treatment &       IV value &                                        description \\\\\n",
      "\\midrule\n",
      "0 &        T1 &    tit-for-tat &  The partner cooperates on the first trial, the... \\\\\n",
      "1 &        T2 &  tit-for-tat+1 &  The partner cooperates on the first trial, and... \\\\\n",
      "\\bottomrule\n",
      "\\end{tabular}\n",
      "\n",
      "\n",
      "The paper(s) that researched this topic is/are the following: \n",
      "http://dx.doi.org/10.1037/0022-3514.87.6.845\n",
      "http://dx.doi.org/10.1037//0022-3514.82.5.768\n",
      "\n",
      "\n",
      "Hypothesis 559: uncertainty target has positive effect on cooperation \n",
      "\n",
      "Dependent Variable (DV):  https://data.cooperationdatabank.org/id/dependentvariable/cooperation \n",
      "\n",
      "Independent Variable (IV):  https://data.cooperationdatabank.org/vocab/prop/uncertaintyTarget https://data.cooperationdatabank.org/vocab/prop/uncertaintyTarget_H1 \n",
      "Description IV:  Whether participants receive uncertain information about a certain aspect of the game. This also includes receiving detailed vs less specific information, as well as events happening certainly versus events happening with a probability. \n",
      "\n",
      "The IV categories that were researched and their descriptions are shown below: \n"
     ]
    },
    {
     "data": {
      "text/html": [
       "<style  type=\"text/css\" >\n",
       "</style><table id=\"T_3cc66aca_ea51_11ea_a8d4_144f8aa73135\" ><thead>    <tr>        <th class=\"col_heading level0 col0\" >treatment</th>        <th class=\"col_heading level0 col1\" >IV value</th>        <th class=\"col_heading level0 col2\" >description</th>    </tr></thead><tbody>\n",
       "                <tr>\n",
       "                                <td id=\"T_3cc66aca_ea51_11ea_a8d4_144f8aa73135row0_col0\" class=\"data row0 col0\" >T1</td>\n",
       "                        <td id=\"T_3cc66aca_ea51_11ea_a8d4_144f8aa73135row0_col1\" class=\"data row0 col1\" >loss</td>\n",
       "                        <td id=\"T_3cc66aca_ea51_11ea_a8d4_144f8aa73135row0_col2\" class=\"data row0 col2\" >Negative payoff that resulted in a loss of resources due to endogenous (e.g., not reaching a threshold) or exogenous  (e.g., shocks) factors</td>\n",
       "            </tr>\n",
       "            <tr>\n",
       "                                <td id=\"T_3cc66aca_ea51_11ea_a8d4_144f8aa73135row1_col0\" class=\"data row1 col0\" >T2</td>\n",
       "                        <td id=\"T_3cc66aca_ea51_11ea_a8d4_144f8aa73135row1_col1\" class=\"data row1 col1\" >threshold</td>\n",
       "                        <td id=\"T_3cc66aca_ea51_11ea_a8d4_144f8aa73135row1_col2\" class=\"data row1 col2\" >The minimum threshold of total contribution by all group members for the public good to be provided or the occurrence of a loss (e.g., in case of public bad games)</td>\n",
       "            </tr>\n",
       "    </tbody></table>"
      ],
      "text/plain": [
       "<pandas.io.formats.style.Styler at 0x21269d8cc08>"
      ]
     },
     "metadata": {},
     "output_type": "display_data"
    },
    {
     "name": "stdout",
     "output_type": "stream",
     "text": [
      "\\begin{tabular}{llll}\n",
      "\\toprule\n",
      "{} & treatment &   IV value &                                        description \\\\\n",
      "\\midrule\n",
      "0 &        T1 &       loss &  Negative payoff that resulted in a loss of res... \\\\\n",
      "1 &        T2 &  threshold &  The minimum threshold of total contribution by... \\\\\n",
      "\\bottomrule\n",
      "\\end{tabular}\n",
      "\n",
      "\n",
      "The paper(s) that researched this topic is/are the following: \n",
      "http://dx.doi.org/10.1073/pnas.1208417109\n",
      "\n",
      "\n",
      "Hypothesis 560: exit option has negative effect on contributions \n",
      "\n",
      "Dependent Variable (DV):  https://data.cooperationdatabank.org/id/dependentvariable/contributions \n",
      "\n",
      "Independent Variable (IV):  https://data.cooperationdatabank.org/vocab/prop/exitOption https://data.cooperationdatabank.org/vocab/prop/exitOption_H1 \n",
      "Description IV:  Whether the game provided the option to walk away and not interact in the game. TRUE = Exit option is provided, FALSE = Exit option is not provided \n",
      "\n",
      "The IV categories that were researched and their descriptions are shown below: \n"
     ]
    },
    {
     "data": {
      "text/html": [
       "<style  type=\"text/css\" >\n",
       "</style><table id=\"T_3d6e3e68_ea51_11ea_bd54_144f8aa73135\" ><thead>    <tr>        <th class=\"col_heading level0 col0\" >treatment</th>        <th class=\"col_heading level0 col1\" >IV value</th>    </tr></thead><tbody>\n",
       "                <tr>\n",
       "                                <td id=\"T_3d6e3e68_ea51_11ea_bd54_144f8aa73135row0_col0\" class=\"data row0 col0\" >T1</td>\n",
       "                        <td id=\"T_3d6e3e68_ea51_11ea_bd54_144f8aa73135row0_col1\" class=\"data row0 col1\" >0</td>\n",
       "            </tr>\n",
       "            <tr>\n",
       "                                <td id=\"T_3d6e3e68_ea51_11ea_bd54_144f8aa73135row1_col0\" class=\"data row1 col0\" >T2</td>\n",
       "                        <td id=\"T_3d6e3e68_ea51_11ea_bd54_144f8aa73135row1_col1\" class=\"data row1 col1\" >1</td>\n",
       "            </tr>\n",
       "    </tbody></table>"
      ],
      "text/plain": [
       "<pandas.io.formats.style.Styler at 0x21269d8e948>"
      ]
     },
     "metadata": {},
     "output_type": "display_data"
    },
    {
     "name": "stdout",
     "output_type": "stream",
     "text": [
      "\\begin{tabular}{lll}\n",
      "\\toprule\n",
      "{} & treatment & IV value \\\\\n",
      "\\midrule\n",
      "0 &        T1 &        0 \\\\\n",
      "1 &        T2 &        1 \\\\\n",
      "\\bottomrule\n",
      "\\end{tabular}\n",
      "\n",
      "\n",
      "The paper(s) that researched this topic is/are the following: \n",
      "http://dx.doi.org/10.1371/journal.pone.0069871\n",
      "http://dx.doi.org/10.1037/h0024598\n"
     ]
    }
   ],
   "source": [
    "def create_category_output(catT1, catT2, var):\n",
    "    categories = pd.Series([catT1, catT2])\n",
    "    categories_placeholder = pd.Series()\n",
    "    descriptions = pd.Series()\n",
    "    range_type = query_range(var)\n",
    "    treatment = pd.Series(['T1', 'T2'])\n",
    "    \n",
    "    if range_type != 'http://www.w3.org/2001/XMLSchema#string':\n",
    "        for index, category in categories.items(): \n",
    "            try: \n",
    "                description = query_description(category)\n",
    "            except: \n",
    "                continue\n",
    "            if description != None: \n",
    "                slash = category.rfind('/')\n",
    "                category_str = category[slash+1:]\n",
    "                category_ser = pd.Series([category_str])\n",
    "                category_ser.index = [index]\n",
    "                categories_placeholder = categories_placeholder.append(category_ser)\n",
    "\n",
    "                description = pd.Series([description])\n",
    "                description.index = [index]\n",
    "                descriptions = descriptions.append(description)\n",
    "\n",
    "            else: \n",
    "                description = pd.Series([description])\n",
    "                descriptions = descriptions.append(description)\n",
    "\n",
    "    if descriptions.isna().any() == False and lenzi(descriptions) == False: \n",
    "        categories = categories_placeholder\n",
    "        output = pd.DataFrame({'treatment' : treatment,\n",
    "                               'IV value': categories, \n",
    "                               'description': descriptions}).reset_index(drop=True)\n",
    "    else: \n",
    "        output = pd.DataFrame({'treatment' : treatment,\n",
    "                               'IV value': categories}).reset_index(drop=True)\n",
    "    return output\n",
    "\n",
    "def disassemble_statement(statement): \n",
    "    result = statement.find(' ')\n",
    "    item2_3 = statement[result+1:]\n",
    "    result2 = item2_3.find(' ')\n",
    "\n",
    "    item1 = statement[:result]\n",
    "    item1a = item1[:item1.find('_H')]\n",
    "    item2 = item2_3[:result2].strip()\n",
    "    item3 = item2_3[result2:].strip()\n",
    "    item2 = item2.replace('https://data.cooperationdatabank.org/vocab/prop/', '')\n",
    "    return item1, item1a, item2, item3\n",
    "\n",
    "\n",
    "def query_label(iri): \n",
    "    query = \"\"\"\n",
    "        PREFIX rdfs: <http://www.w3.org/2000/01/rdf-schema#>\n",
    "        SELECT * \n",
    "        WHERE {\n",
    "         \"\"\" + '<' + iri + '>' + \"\"\" rdfs:label ?label . \n",
    "        }\"\"\"\n",
    "    dfje = get_sparql_dataframe(url, query)\n",
    "    try: \n",
    "        label = dfje['label'][0]\n",
    "        return label\n",
    "    except: \n",
    "        print(\"Except: No label found?\")\n",
    "\n",
    "def lenzi(df):\n",
    "    return len(df.index) == 0\n",
    "\n",
    "def query_description(entity): \n",
    "    prefix = \"\"\" PREFIX owl: <http://www.w3.org/2002/07/owl#>\n",
    "        PREFIX rdf: <http://www.w3.org/1999/02/22-rdf-syntax-ns#>\n",
    "        PREFIX rdfs: <http://www.w3.org/2000/01/rdf-schema#>\n",
    "        PREFIX class: <https://data.cooperationdatabank.org/vocab/class/>\n",
    "        PREFIX property: <https://data.cooperationdatabank.org/vocab/prop/>\n",
    "        PREFIX id: <https://data.cooperationdatabank.org/id/> \n",
    "        PREFIX dct: <http://purl.org/dc/terms/>\n",
    "\"\"\"\n",
    "    query = prefix + \"\"\"\n",
    "            SELECT * \n",
    "            WHERE {\n",
    "             \"\"\" + '<' + entity + '>' + \"\"\" dct:description ?description . \n",
    "            }\"\"\"\n",
    "    \n",
    "    dfje = get_sparql_dataframe(url, query)\n",
    "   \n",
    "    if lenzi(dfje) == False: \n",
    "        description = dfje['description']\n",
    "        return description.item()\n",
    "\n",
    "\n",
    "\n",
    "def effect_string_maker(effect):\n",
    "    if effect == 'hasPositiveEffectOn': \n",
    "        effect_string = 'has positive effect on'\n",
    "        return effect_string\n",
    "    elif effect == 'hasNegativeEffectOn': \n",
    "        effect_string = 'has negative effect on'\n",
    "        return effect_string\n",
    "\n",
    "def query_range(IV): \n",
    "    query = \"\"\"\n",
    "        PREFIX rdfs: <http://www.w3.org/2000/01/rdf-schema#>\n",
    "        SELECT * \n",
    "        WHERE {\n",
    "         \"\"\" + '<' + IV + '>' + \"\"\" rdfs:range ?range . \n",
    "        }\"\"\"\n",
    "    dfje = get_sparql_dataframe(url, query)\n",
    "\n",
    "    if dfje.empty == False:\n",
    "        IVrange = dfje['range'][0]\n",
    "        return IVrange\n",
    "\n",
    "    \n",
    "\n",
    "    \n",
    "def control_function( rankings, obs):        \n",
    "    for index, row in rankings.iterrows(): \n",
    "        IV_H, IV, effect, DV = disassemble_statement(row['statement'])\n",
    "        effect_string = effect_string_maker(effect)\n",
    "        \n",
    "        dois = obs[obs['IV_new'].str.contains(str(IV_H))]['doi'].unique().tolist()\n",
    "        catT1 = obs[obs['IV_new'].str.contains(str(IV_H))]['categoryT1'].unique().tolist()[0]\n",
    "        catT2 = obs[obs['IV_new'].str.contains(str(IV_H))]['categoryT2'].unique().tolist()[0]\n",
    "        \n",
    "        output = create_category_output(catT1, catT2, IV)\n",
    "        print('\\n\\nHypothesis ' + str(index+1) + ':', query_label(IV), effect_string, query_label(DV).lower(),\n",
    "              '\\n\\nDependent Variable (DV): ', DV, \n",
    "              '\\n\\nIndependent Variable (IV): ', IV, IV_H, \n",
    "              '\\nDescription IV: ', query_description(IV), \n",
    "              '\\n\\nThe IV categories that were researched and their descriptions are shown below: ')\n",
    "\n",
    "        with pd.option_context('display.width', 10):  # more options can be specified also\n",
    "            display(output.style.hide_index())\n",
    "            print(output.to_latex())\n",
    "    \n",
    "        print('\\nThe paper(s) that researched this topic is/are the following: ')\n",
    "        for doi in dois: \n",
    "            if doi == 'nan':\n",
    "                print('Papers are not available in the data') \n",
    "            else: \n",
    "                print(doi)\n",
    "\n",
    "# Most likely examples \n",
    "print('POSSIBLE NEW HYPOTHESES WITH HIGHEST PROBABILITIES')\n",
    "control_function(rankings[:10], observations)\n",
    "# least likely examples \n",
    "print('\\n\\nHYPOTHESES WITH VERY LOW PROBABILITIES')\n",
    "control_function(rankings[len(rankings)-10:], observations)"
   ]
  },
  {
   "cell_type": "code",
   "execution_count": null,
   "metadata": {},
   "outputs": [],
   "source": [
    "observations"
   ]
  },
  {
   "cell_type": "code",
   "execution_count": null,
   "metadata": {},
   "outputs": [],
   "source": [
    "from docx.enum.dml import MSO_THEME_COLOR_INDEX\n",
    "import docx\n",
    "def add_hyperlink(paragraph, text, url):\n",
    "    # This gets access to the document.xml.rels file and gets a new relation id value\n",
    "    part = paragraph.part\n",
    "    r_id = part.relate_to(url, docx.opc.constants.RELATIONSHIP_TYPE.HYPERLINK, is_external=True)\n",
    "\n",
    "    # Create the w:hyperlink tag and add needed values\n",
    "    hyperlink = docx.oxml.shared.OxmlElement('w:hyperlink')\n",
    "    hyperlink.set(docx.oxml.shared.qn('r:id'), r_id, )\n",
    "\n",
    "    # Create a w:r element and a new w:rPr element\n",
    "    new_run = docx.oxml.shared.OxmlElement('w:r')\n",
    "    rPr = docx.oxml.shared.OxmlElement('w:rPr')\n",
    "\n",
    "    # Join all the xml elements together add add the required text to the w:r element\n",
    "    new_run.append(rPr)\n",
    "    new_run.text = text\n",
    "    hyperlink.append(new_run)\n",
    "\n",
    "    # Create a new Run object and add the hyperlink into it\n",
    "    r = paragraph.add_run ()\n",
    "    r._r.append (hyperlink)\n",
    "\n",
    "    # A workaround for the lack of a hyperlink style (doesn't go purple after using the link)\n",
    "    # Delete this if using a template that has the hyperlink style in it\n",
    "    r.font.color.theme_color = MSO_THEME_COLOR_INDEX.HYPERLINK\n",
    "    r.font.underline = True\n",
    "\n",
    "    return hyperlink"
   ]
  },
  {
   "cell_type": "code",
   "execution_count": null,
   "metadata": {},
   "outputs": [],
   "source": [
    "def control_function2(document, hnumber, rankings, obs):        \n",
    "    for index, row in rankings.iterrows(): \n",
    "        IV_H, IV, effect, DV = disassemble_statement(row['statement'])\n",
    "        effect_string = effect_string_maker(effect)\n",
    "\n",
    "        dois = obs[obs['IV_new'].str.contains(str(IV_H))]['doi'].unique().tolist()\n",
    "        catT1 = obs[obs['IV_new'].str.contains(str(IV_H))]['categoryT1'].unique().tolist()[0]\n",
    "        catT2 = obs[obs['IV_new'].str.contains(str(IV_H))]['categoryT2'].unique().tolist()[0]\n",
    "        \n",
    "        output = create_category_output(catT1, catT2, IV)\n",
    "        document.add_heading(('Hypothesis ' + str(hnumber) + ': ' + query_label(IV) + ' ' + effect_string + ' ' + query_label(DV).lower()), level=1)\n",
    "        p = document.add_paragraph('Dependent Variable (DV): ')\n",
    "        add_hyperlink(p, str(DV), DV)\n",
    "\n",
    "        p = document.add_paragraph('\\nInependent Variable (IV): ')\n",
    "        add_hyperlink(p, str(IV), IV)\n",
    "            \n",
    "        document.add_paragraph('Description IV: ' + query_description(IV) + \n",
    "                               '\\n\\nThe IV values that were researched and (if available) their descriptions are shown below: ')\n",
    "        \n",
    "        t = document.add_table(output.shape[0]+1, output.shape[1])\n",
    "        \n",
    "        # add the header rows.\n",
    "        for j in range(output.shape[-1]):\n",
    "            t.cell(0,j).text = output.columns[j]\n",
    "\n",
    "        # add the rest of the data frame\n",
    "        for i in range(output.shape[0]):\n",
    "            for j in range(output.shape[-1]):\n",
    "                t.cell(i+1,j).text = str(output.values[i,j])\n",
    "                \n",
    "        document.add_paragraph('\\nThe paper(s) that researched this topic is/are the following: ')\n",
    "        for doi in dois: \n",
    "            if type(doi) == float:\n",
    "                continue\n",
    "            else:\n",
    "                p = document.add_paragraph('')\n",
    "                add_hyperlink(p, str(doi), doi)\n",
    "                \n",
    "    document.save('hypotheses.docx')\n",
    "\n",
    "\n",
    "# # Most likely examples \n",
    "# print('POSSIBLE NEW HYPOTHESES WITH HIGHEST PROBABILITIES')\n",
    "# control_function(counts, rankings[:10], observations)\n",
    "# # least likely examples \n",
    "# print('\\n\\nHYPOTHESES WITH VERY LOW PROBABILITIES')\n",
    "# control_function(counts, rankings[len(rankings)-10:], observations)"
   ]
  },
  {
   "cell_type": "code",
   "execution_count": null,
   "metadata": {},
   "outputs": [],
   "source": [
    "import random\n",
    "\n",
    "indexes = [0,1,2,3,4,5,6,7,8,9,550,551,552,553,554,555,556,557,558,559]\n",
    "\n",
    "def random_index(data):\n",
    "    choice = random.choice(data) \n",
    "    data.remove(choice) \n",
    "    return choice, data \n",
    "\n",
    "# choice, indexjes = simple(indexes)\n",
    "\n",
    "document = Document()\n",
    "document.add_heading('Hypotheses', 0)\n",
    "hnumber = 0\n",
    "for r in range(len(indexes)): \n",
    "    hnumber += 1\n",
    "    choice, indexes = random_index(indexes)\n",
    "    control_function2(document, hnumber, rankings[choice:choice+1], observations)\n",
    "    print(hnumber, choice)"
   ]
  },
  {
   "cell_type": "code",
   "execution_count": null,
   "metadata": {},
   "outputs": [],
   "source": []
  },
  {
   "cell_type": "code",
   "execution_count": null,
   "metadata": {},
   "outputs": [],
   "source": []
  }
 ],
 "metadata": {
  "kernelspec": {
   "display_name": "tf",
   "language": "python",
   "name": "tf"
  },
  "language_info": {
   "codemirror_mode": {
    "name": "ipython",
    "version": 3
   },
   "file_extension": ".py",
   "mimetype": "text/x-python",
   "name": "python",
   "nbconvert_exporter": "python",
   "pygments_lexer": "ipython3",
   "version": "3.7.7"
  }
 },
 "nbformat": 4,
 "nbformat_minor": 4
}
